{
 "cells": [
  {
   "cell_type": "code",
   "execution_count": 1,
   "metadata": {
    "_cell_guid": "b1076dfc-b9ad-4769-8c92-a6c4dae69d19",
    "_uuid": "8f2839f25d086af736a60e9eeb907d3b93b6e0e5",
    "execution": {
     "iopub.execute_input": "2024-12-23T08:31:10.029437Z",
     "iopub.status.busy": "2024-12-23T08:31:10.028994Z",
     "iopub.status.idle": "2024-12-23T08:31:10.473336Z",
     "shell.execute_reply": "2024-12-23T08:31:10.472055Z",
     "shell.execute_reply.started": "2024-12-23T08:31:10.029397Z"
    }
   },
   "outputs": [
    {
     "name": "stdout",
     "output_type": "stream",
     "text": [
      "/kaggle/input/playground-series-s4e12/sample_submission.csv\n",
      "/kaggle/input/playground-series-s4e12/train.csv\n",
      "/kaggle/input/playground-series-s4e12/test.csv\n"
     ]
    }
   ],
   "source": [
    "# This Python 3 environment comes with many helpful analytics libraries installed\n",
    "# It is defined by the kaggle/python Docker image: https://github.com/kaggle/docker-python\n",
    "# For example, here's several helpful packages to load\n",
    "\n",
    "import numpy as np # linear algebra\n",
    "import pandas as pd # data processing, CSV file I/O (e.g. pd.read_csv)\n",
    "\n",
    "# Input data files are available in the read-only \"../input/\" directory\n",
    "# For example, running this (by clicking run or pressing Shift+Enter) will list all files under the input directory\n",
    "\n",
    "import os\n",
    "for dirname, _, filenames in os.walk('/kaggle/input'):\n",
    "    for filename in filenames:\n",
    "        print(os.path.join(dirname, filename))\n",
    "\n",
    "# You can write up to 20GB to the current directory (/kaggle/working/) that gets preserved as output when you create a version using \"Save & Run All\" \n",
    "# You can also write temporary files to /kaggle/temp/, but they won't be saved outside of the current session"
   ]
  },
  {
   "cell_type": "markdown",
   "metadata": {},
   "source": [
    "# **1.Introduction**"
   ]
  },
  {
   "cell_type": "markdown",
   "metadata": {},
   "source": [
    "**Goal of the Project**\n",
    "\n",
    "Want to predict the insurance premium amount for each customer based on the features provided in the dataset.\n",
    "\n",
    "The premium is typically calculated based on factors that:\n",
    "\n",
    "Reflect the risk of insuring a customer (e.g., age, health score, vehicle age, etc.).Affect the policy cost (e.g., credit score, insurance duration, policy type).\n"
   ]
  },
  {
   "cell_type": "markdown",
   "metadata": {},
   "source": [
    "# **2.Data Understanding**"
   ]
  },
  {
   "cell_type": "markdown",
   "metadata": {},
   "source": [
    "# **Import Necessary Libraries:**"
   ]
  },
  {
   "cell_type": "code",
   "execution_count": 2,
   "metadata": {
    "execution": {
     "iopub.execute_input": "2024-12-23T08:31:10.475966Z",
     "iopub.status.busy": "2024-12-23T08:31:10.475497Z",
     "iopub.status.idle": "2024-12-23T08:31:11.337929Z",
     "shell.execute_reply": "2024-12-23T08:31:11.336765Z",
     "shell.execute_reply.started": "2024-12-23T08:31:10.475932Z"
    }
   },
   "outputs": [],
   "source": [
    "import pandas as pd\n",
    "import numpy as np\n",
    "import matplotlib.pyplot as plt\n",
    "import seaborn as sns\n",
    "from sklearn.ensemble import RandomForestRegressor\n",
    "from sklearn.model_selection import train_test_split,GridSearchCV\n",
    "from sklearn.preprocessing import StandardScaler,LabelEncoder,OneHotEncoder\n",
    "from sklearn.linear_model import Lasso,LinearRegression\n",
    "from sklearn.ensemble import RandomForestRegressor\n",
    "from sklearn.metrics import mean_squared_log_error,make_scorer\n",
    "import xgboost as xgb\n",
    "from xgboost import XGBRegressor\n",
    "from xgboost import plot_importance\n",
    "from sklearn.tree import DecisionTreeRegressor\n",
    "import warnings\n",
    "warnings.filterwarnings('ignore')\n",
    "from sklearn.pipeline import Pipeline\n",
    "from sklearn.compose import ColumnTransformer\n",
    "from sklearn.impute import SimpleImputer\n"
   ]
  },
  {
   "cell_type": "code",
   "execution_count": 3,
   "metadata": {
    "execution": {
     "iopub.execute_input": "2024-12-23T08:31:11.340135Z",
     "iopub.status.busy": "2024-12-23T08:31:11.339416Z",
     "iopub.status.idle": "2024-12-23T08:31:19.806446Z",
     "shell.execute_reply": "2024-12-23T08:31:19.804871Z",
     "shell.execute_reply.started": "2024-12-23T08:31:11.340096Z"
    }
   },
   "outputs": [],
   "source": [
    "train=pd.read_csv(\"/kaggle/input/playground-series-s4e12/train.csv\")\n",
    "test=pd.read_csv(\"/kaggle/input/playground-series-s4e12/test.csv\")\n",
    "\n"
   ]
  },
  {
   "cell_type": "code",
   "execution_count": 4,
   "metadata": {
    "execution": {
     "iopub.execute_input": "2024-12-23T08:31:19.808783Z",
     "iopub.status.busy": "2024-12-23T08:31:19.808264Z",
     "iopub.status.idle": "2024-12-23T08:31:20.564294Z",
     "shell.execute_reply": "2024-12-23T08:31:20.562937Z",
     "shell.execute_reply.started": "2024-12-23T08:31:19.808727Z"
    }
   },
   "outputs": [
    {
     "data": {
      "text/html": [
       "<div>\n",
       "<style scoped>\n",
       "    .dataframe tbody tr th:only-of-type {\n",
       "        vertical-align: middle;\n",
       "    }\n",
       "\n",
       "    .dataframe tbody tr th {\n",
       "        vertical-align: top;\n",
       "    }\n",
       "\n",
       "    .dataframe thead th {\n",
       "        text-align: right;\n",
       "    }\n",
       "</style>\n",
       "<table border=\"1\" class=\"dataframe\">\n",
       "  <thead>\n",
       "    <tr style=\"text-align: right;\">\n",
       "      <th></th>\n",
       "      <th>id</th>\n",
       "      <th>Age</th>\n",
       "      <th>Gender</th>\n",
       "      <th>Annual Income</th>\n",
       "      <th>Marital Status</th>\n",
       "      <th>Number of Dependents</th>\n",
       "      <th>Education Level</th>\n",
       "      <th>Occupation</th>\n",
       "      <th>Health Score</th>\n",
       "      <th>Location</th>\n",
       "      <th>...</th>\n",
       "      <th>Previous Claims</th>\n",
       "      <th>Vehicle Age</th>\n",
       "      <th>Credit Score</th>\n",
       "      <th>Insurance Duration</th>\n",
       "      <th>Policy Start Date</th>\n",
       "      <th>Customer Feedback</th>\n",
       "      <th>Smoking Status</th>\n",
       "      <th>Exercise Frequency</th>\n",
       "      <th>Property Type</th>\n",
       "      <th>Premium Amount</th>\n",
       "    </tr>\n",
       "  </thead>\n",
       "  <tbody>\n",
       "    <tr>\n",
       "      <th>0</th>\n",
       "      <td>0</td>\n",
       "      <td>19.0</td>\n",
       "      <td>Female</td>\n",
       "      <td>10049.0</td>\n",
       "      <td>Married</td>\n",
       "      <td>1.0</td>\n",
       "      <td>Bachelor's</td>\n",
       "      <td>Self-Employed</td>\n",
       "      <td>22.598761</td>\n",
       "      <td>Urban</td>\n",
       "      <td>...</td>\n",
       "      <td>2.0</td>\n",
       "      <td>17.0</td>\n",
       "      <td>372.0</td>\n",
       "      <td>5.0</td>\n",
       "      <td>2023-12-23 15:21:39.134960</td>\n",
       "      <td>Poor</td>\n",
       "      <td>No</td>\n",
       "      <td>Weekly</td>\n",
       "      <td>House</td>\n",
       "      <td>2869.0</td>\n",
       "    </tr>\n",
       "    <tr>\n",
       "      <th>1</th>\n",
       "      <td>1</td>\n",
       "      <td>39.0</td>\n",
       "      <td>Female</td>\n",
       "      <td>31678.0</td>\n",
       "      <td>Divorced</td>\n",
       "      <td>3.0</td>\n",
       "      <td>Master's</td>\n",
       "      <td>NaN</td>\n",
       "      <td>15.569731</td>\n",
       "      <td>Rural</td>\n",
       "      <td>...</td>\n",
       "      <td>1.0</td>\n",
       "      <td>12.0</td>\n",
       "      <td>694.0</td>\n",
       "      <td>2.0</td>\n",
       "      <td>2023-06-12 15:21:39.111551</td>\n",
       "      <td>Average</td>\n",
       "      <td>Yes</td>\n",
       "      <td>Monthly</td>\n",
       "      <td>House</td>\n",
       "      <td>1483.0</td>\n",
       "    </tr>\n",
       "    <tr>\n",
       "      <th>2</th>\n",
       "      <td>2</td>\n",
       "      <td>23.0</td>\n",
       "      <td>Male</td>\n",
       "      <td>25602.0</td>\n",
       "      <td>Divorced</td>\n",
       "      <td>3.0</td>\n",
       "      <td>High School</td>\n",
       "      <td>Self-Employed</td>\n",
       "      <td>47.177549</td>\n",
       "      <td>Suburban</td>\n",
       "      <td>...</td>\n",
       "      <td>1.0</td>\n",
       "      <td>14.0</td>\n",
       "      <td>NaN</td>\n",
       "      <td>3.0</td>\n",
       "      <td>2023-09-30 15:21:39.221386</td>\n",
       "      <td>Good</td>\n",
       "      <td>Yes</td>\n",
       "      <td>Weekly</td>\n",
       "      <td>House</td>\n",
       "      <td>567.0</td>\n",
       "    </tr>\n",
       "    <tr>\n",
       "      <th>3</th>\n",
       "      <td>3</td>\n",
       "      <td>21.0</td>\n",
       "      <td>Male</td>\n",
       "      <td>141855.0</td>\n",
       "      <td>Married</td>\n",
       "      <td>2.0</td>\n",
       "      <td>Bachelor's</td>\n",
       "      <td>NaN</td>\n",
       "      <td>10.938144</td>\n",
       "      <td>Rural</td>\n",
       "      <td>...</td>\n",
       "      <td>1.0</td>\n",
       "      <td>0.0</td>\n",
       "      <td>367.0</td>\n",
       "      <td>1.0</td>\n",
       "      <td>2024-06-12 15:21:39.226954</td>\n",
       "      <td>Poor</td>\n",
       "      <td>Yes</td>\n",
       "      <td>Daily</td>\n",
       "      <td>Apartment</td>\n",
       "      <td>765.0</td>\n",
       "    </tr>\n",
       "    <tr>\n",
       "      <th>4</th>\n",
       "      <td>4</td>\n",
       "      <td>21.0</td>\n",
       "      <td>Male</td>\n",
       "      <td>39651.0</td>\n",
       "      <td>Single</td>\n",
       "      <td>1.0</td>\n",
       "      <td>Bachelor's</td>\n",
       "      <td>Self-Employed</td>\n",
       "      <td>20.376094</td>\n",
       "      <td>Rural</td>\n",
       "      <td>...</td>\n",
       "      <td>0.0</td>\n",
       "      <td>8.0</td>\n",
       "      <td>598.0</td>\n",
       "      <td>4.0</td>\n",
       "      <td>2021-12-01 15:21:39.252145</td>\n",
       "      <td>Poor</td>\n",
       "      <td>Yes</td>\n",
       "      <td>Weekly</td>\n",
       "      <td>House</td>\n",
       "      <td>2022.0</td>\n",
       "    </tr>\n",
       "    <tr>\n",
       "      <th>...</th>\n",
       "      <td>...</td>\n",
       "      <td>...</td>\n",
       "      <td>...</td>\n",
       "      <td>...</td>\n",
       "      <td>...</td>\n",
       "      <td>...</td>\n",
       "      <td>...</td>\n",
       "      <td>...</td>\n",
       "      <td>...</td>\n",
       "      <td>...</td>\n",
       "      <td>...</td>\n",
       "      <td>...</td>\n",
       "      <td>...</td>\n",
       "      <td>...</td>\n",
       "      <td>...</td>\n",
       "      <td>...</td>\n",
       "      <td>...</td>\n",
       "      <td>...</td>\n",
       "      <td>...</td>\n",
       "      <td>...</td>\n",
       "      <td>...</td>\n",
       "    </tr>\n",
       "    <tr>\n",
       "      <th>1199995</th>\n",
       "      <td>1199995</td>\n",
       "      <td>36.0</td>\n",
       "      <td>Female</td>\n",
       "      <td>27316.0</td>\n",
       "      <td>Married</td>\n",
       "      <td>0.0</td>\n",
       "      <td>Master's</td>\n",
       "      <td>Unemployed</td>\n",
       "      <td>13.772907</td>\n",
       "      <td>Urban</td>\n",
       "      <td>...</td>\n",
       "      <td>NaN</td>\n",
       "      <td>5.0</td>\n",
       "      <td>372.0</td>\n",
       "      <td>3.0</td>\n",
       "      <td>2023-05-03 15:21:39.257696</td>\n",
       "      <td>Poor</td>\n",
       "      <td>No</td>\n",
       "      <td>Daily</td>\n",
       "      <td>Apartment</td>\n",
       "      <td>1303.0</td>\n",
       "    </tr>\n",
       "    <tr>\n",
       "      <th>1199996</th>\n",
       "      <td>1199996</td>\n",
       "      <td>54.0</td>\n",
       "      <td>Male</td>\n",
       "      <td>35786.0</td>\n",
       "      <td>Divorced</td>\n",
       "      <td>NaN</td>\n",
       "      <td>Master's</td>\n",
       "      <td>Self-Employed</td>\n",
       "      <td>11.483482</td>\n",
       "      <td>Rural</td>\n",
       "      <td>...</td>\n",
       "      <td>NaN</td>\n",
       "      <td>10.0</td>\n",
       "      <td>597.0</td>\n",
       "      <td>4.0</td>\n",
       "      <td>2022-09-10 15:21:39.134960</td>\n",
       "      <td>Poor</td>\n",
       "      <td>No</td>\n",
       "      <td>Weekly</td>\n",
       "      <td>Apartment</td>\n",
       "      <td>821.0</td>\n",
       "    </tr>\n",
       "    <tr>\n",
       "      <th>1199997</th>\n",
       "      <td>1199997</td>\n",
       "      <td>19.0</td>\n",
       "      <td>Male</td>\n",
       "      <td>51884.0</td>\n",
       "      <td>Divorced</td>\n",
       "      <td>0.0</td>\n",
       "      <td>Master's</td>\n",
       "      <td>NaN</td>\n",
       "      <td>14.724469</td>\n",
       "      <td>Suburban</td>\n",
       "      <td>...</td>\n",
       "      <td>0.0</td>\n",
       "      <td>19.0</td>\n",
       "      <td>NaN</td>\n",
       "      <td>6.0</td>\n",
       "      <td>2021-05-25 15:21:39.106582</td>\n",
       "      <td>Good</td>\n",
       "      <td>No</td>\n",
       "      <td>Monthly</td>\n",
       "      <td>Condo</td>\n",
       "      <td>371.0</td>\n",
       "    </tr>\n",
       "    <tr>\n",
       "      <th>1199998</th>\n",
       "      <td>1199998</td>\n",
       "      <td>55.0</td>\n",
       "      <td>Male</td>\n",
       "      <td>NaN</td>\n",
       "      <td>Single</td>\n",
       "      <td>1.0</td>\n",
       "      <td>PhD</td>\n",
       "      <td>NaN</td>\n",
       "      <td>18.547381</td>\n",
       "      <td>Suburban</td>\n",
       "      <td>...</td>\n",
       "      <td>1.0</td>\n",
       "      <td>7.0</td>\n",
       "      <td>407.0</td>\n",
       "      <td>4.0</td>\n",
       "      <td>2021-09-19 15:21:39.190215</td>\n",
       "      <td>Poor</td>\n",
       "      <td>No</td>\n",
       "      <td>Daily</td>\n",
       "      <td>Apartment</td>\n",
       "      <td>596.0</td>\n",
       "    </tr>\n",
       "    <tr>\n",
       "      <th>1199999</th>\n",
       "      <td>1199999</td>\n",
       "      <td>21.0</td>\n",
       "      <td>Female</td>\n",
       "      <td>NaN</td>\n",
       "      <td>Divorced</td>\n",
       "      <td>0.0</td>\n",
       "      <td>PhD</td>\n",
       "      <td>NaN</td>\n",
       "      <td>10.125323</td>\n",
       "      <td>Rural</td>\n",
       "      <td>...</td>\n",
       "      <td>0.0</td>\n",
       "      <td>18.0</td>\n",
       "      <td>502.0</td>\n",
       "      <td>6.0</td>\n",
       "      <td>2020-08-26 15:21:39.155231</td>\n",
       "      <td>Good</td>\n",
       "      <td>Yes</td>\n",
       "      <td>Monthly</td>\n",
       "      <td>House</td>\n",
       "      <td>2480.0</td>\n",
       "    </tr>\n",
       "  </tbody>\n",
       "</table>\n",
       "<p>1200000 rows × 21 columns</p>\n",
       "</div>"
      ],
      "text/plain": [
       "              id   Age  Gender  Annual Income Marital Status  \\\n",
       "0              0  19.0  Female        10049.0        Married   \n",
       "1              1  39.0  Female        31678.0       Divorced   \n",
       "2              2  23.0    Male        25602.0       Divorced   \n",
       "3              3  21.0    Male       141855.0        Married   \n",
       "4              4  21.0    Male        39651.0         Single   \n",
       "...          ...   ...     ...            ...            ...   \n",
       "1199995  1199995  36.0  Female        27316.0        Married   \n",
       "1199996  1199996  54.0    Male        35786.0       Divorced   \n",
       "1199997  1199997  19.0    Male        51884.0       Divorced   \n",
       "1199998  1199998  55.0    Male            NaN         Single   \n",
       "1199999  1199999  21.0  Female            NaN       Divorced   \n",
       "\n",
       "         Number of Dependents Education Level     Occupation  Health Score  \\\n",
       "0                         1.0      Bachelor's  Self-Employed     22.598761   \n",
       "1                         3.0        Master's            NaN     15.569731   \n",
       "2                         3.0     High School  Self-Employed     47.177549   \n",
       "3                         2.0      Bachelor's            NaN     10.938144   \n",
       "4                         1.0      Bachelor's  Self-Employed     20.376094   \n",
       "...                       ...             ...            ...           ...   \n",
       "1199995                   0.0        Master's     Unemployed     13.772907   \n",
       "1199996                   NaN        Master's  Self-Employed     11.483482   \n",
       "1199997                   0.0        Master's            NaN     14.724469   \n",
       "1199998                   1.0             PhD            NaN     18.547381   \n",
       "1199999                   0.0             PhD            NaN     10.125323   \n",
       "\n",
       "         Location  ... Previous Claims  Vehicle Age  Credit Score  \\\n",
       "0           Urban  ...             2.0         17.0         372.0   \n",
       "1           Rural  ...             1.0         12.0         694.0   \n",
       "2        Suburban  ...             1.0         14.0           NaN   \n",
       "3           Rural  ...             1.0          0.0         367.0   \n",
       "4           Rural  ...             0.0          8.0         598.0   \n",
       "...           ...  ...             ...          ...           ...   \n",
       "1199995     Urban  ...             NaN          5.0         372.0   \n",
       "1199996     Rural  ...             NaN         10.0         597.0   \n",
       "1199997  Suburban  ...             0.0         19.0           NaN   \n",
       "1199998  Suburban  ...             1.0          7.0         407.0   \n",
       "1199999     Rural  ...             0.0         18.0         502.0   \n",
       "\n",
       "         Insurance Duration           Policy Start Date Customer Feedback  \\\n",
       "0                       5.0  2023-12-23 15:21:39.134960              Poor   \n",
       "1                       2.0  2023-06-12 15:21:39.111551           Average   \n",
       "2                       3.0  2023-09-30 15:21:39.221386              Good   \n",
       "3                       1.0  2024-06-12 15:21:39.226954              Poor   \n",
       "4                       4.0  2021-12-01 15:21:39.252145              Poor   \n",
       "...                     ...                         ...               ...   \n",
       "1199995                 3.0  2023-05-03 15:21:39.257696              Poor   \n",
       "1199996                 4.0  2022-09-10 15:21:39.134960              Poor   \n",
       "1199997                 6.0  2021-05-25 15:21:39.106582              Good   \n",
       "1199998                 4.0  2021-09-19 15:21:39.190215              Poor   \n",
       "1199999                 6.0  2020-08-26 15:21:39.155231              Good   \n",
       "\n",
       "        Smoking Status Exercise Frequency Property Type Premium Amount  \n",
       "0                   No             Weekly         House         2869.0  \n",
       "1                  Yes            Monthly         House         1483.0  \n",
       "2                  Yes             Weekly         House          567.0  \n",
       "3                  Yes              Daily     Apartment          765.0  \n",
       "4                  Yes             Weekly         House         2022.0  \n",
       "...                ...                ...           ...            ...  \n",
       "1199995             No              Daily     Apartment         1303.0  \n",
       "1199996             No             Weekly     Apartment          821.0  \n",
       "1199997             No            Monthly         Condo          371.0  \n",
       "1199998             No              Daily     Apartment          596.0  \n",
       "1199999            Yes            Monthly         House         2480.0  \n",
       "\n",
       "[1200000 rows x 21 columns]"
      ]
     },
     "execution_count": 4,
     "metadata": {},
     "output_type": "execute_result"
    }
   ],
   "source": [
    "train"
   ]
  },
  {
   "cell_type": "code",
   "execution_count": 5,
   "metadata": {
    "execution": {
     "iopub.execute_input": "2024-12-23T08:31:20.568909Z",
     "iopub.status.busy": "2024-12-23T08:31:20.568385Z",
     "iopub.status.idle": "2024-12-23T08:31:20.599591Z",
     "shell.execute_reply": "2024-12-23T08:31:20.598258Z",
     "shell.execute_reply.started": "2024-12-23T08:31:20.568870Z"
    }
   },
   "outputs": [
    {
     "data": {
      "text/html": [
       "<div>\n",
       "<style scoped>\n",
       "    .dataframe tbody tr th:only-of-type {\n",
       "        vertical-align: middle;\n",
       "    }\n",
       "\n",
       "    .dataframe tbody tr th {\n",
       "        vertical-align: top;\n",
       "    }\n",
       "\n",
       "    .dataframe thead th {\n",
       "        text-align: right;\n",
       "    }\n",
       "</style>\n",
       "<table border=\"1\" class=\"dataframe\">\n",
       "  <thead>\n",
       "    <tr style=\"text-align: right;\">\n",
       "      <th></th>\n",
       "      <th>id</th>\n",
       "      <th>Age</th>\n",
       "      <th>Gender</th>\n",
       "      <th>Annual Income</th>\n",
       "      <th>Marital Status</th>\n",
       "      <th>Number of Dependents</th>\n",
       "      <th>Education Level</th>\n",
       "      <th>Occupation</th>\n",
       "      <th>Health Score</th>\n",
       "      <th>Location</th>\n",
       "      <th>Policy Type</th>\n",
       "      <th>Previous Claims</th>\n",
       "      <th>Vehicle Age</th>\n",
       "      <th>Credit Score</th>\n",
       "      <th>Insurance Duration</th>\n",
       "      <th>Policy Start Date</th>\n",
       "      <th>Customer Feedback</th>\n",
       "      <th>Smoking Status</th>\n",
       "      <th>Exercise Frequency</th>\n",
       "      <th>Property Type</th>\n",
       "    </tr>\n",
       "  </thead>\n",
       "  <tbody>\n",
       "    <tr>\n",
       "      <th>0</th>\n",
       "      <td>1200000</td>\n",
       "      <td>28.0</td>\n",
       "      <td>Female</td>\n",
       "      <td>2310.0</td>\n",
       "      <td>NaN</td>\n",
       "      <td>4.0</td>\n",
       "      <td>Bachelor's</td>\n",
       "      <td>Self-Employed</td>\n",
       "      <td>7.657981</td>\n",
       "      <td>Rural</td>\n",
       "      <td>Basic</td>\n",
       "      <td>NaN</td>\n",
       "      <td>19.0</td>\n",
       "      <td>NaN</td>\n",
       "      <td>1.0</td>\n",
       "      <td>2023-06-04 15:21:39.245086</td>\n",
       "      <td>Poor</td>\n",
       "      <td>Yes</td>\n",
       "      <td>Weekly</td>\n",
       "      <td>House</td>\n",
       "    </tr>\n",
       "    <tr>\n",
       "      <th>1</th>\n",
       "      <td>1200001</td>\n",
       "      <td>31.0</td>\n",
       "      <td>Female</td>\n",
       "      <td>126031.0</td>\n",
       "      <td>Married</td>\n",
       "      <td>2.0</td>\n",
       "      <td>Master's</td>\n",
       "      <td>Self-Employed</td>\n",
       "      <td>13.381379</td>\n",
       "      <td>Suburban</td>\n",
       "      <td>Premium</td>\n",
       "      <td>NaN</td>\n",
       "      <td>14.0</td>\n",
       "      <td>372.0</td>\n",
       "      <td>8.0</td>\n",
       "      <td>2024-04-22 15:21:39.224915</td>\n",
       "      <td>Good</td>\n",
       "      <td>Yes</td>\n",
       "      <td>Rarely</td>\n",
       "      <td>Apartment</td>\n",
       "    </tr>\n",
       "    <tr>\n",
       "      <th>2</th>\n",
       "      <td>1200002</td>\n",
       "      <td>47.0</td>\n",
       "      <td>Female</td>\n",
       "      <td>17092.0</td>\n",
       "      <td>Divorced</td>\n",
       "      <td>0.0</td>\n",
       "      <td>PhD</td>\n",
       "      <td>Unemployed</td>\n",
       "      <td>24.354527</td>\n",
       "      <td>Urban</td>\n",
       "      <td>Comprehensive</td>\n",
       "      <td>NaN</td>\n",
       "      <td>16.0</td>\n",
       "      <td>819.0</td>\n",
       "      <td>9.0</td>\n",
       "      <td>2023-04-05 15:21:39.134960</td>\n",
       "      <td>Average</td>\n",
       "      <td>Yes</td>\n",
       "      <td>Monthly</td>\n",
       "      <td>Condo</td>\n",
       "    </tr>\n",
       "    <tr>\n",
       "      <th>3</th>\n",
       "      <td>1200003</td>\n",
       "      <td>28.0</td>\n",
       "      <td>Female</td>\n",
       "      <td>30424.0</td>\n",
       "      <td>Divorced</td>\n",
       "      <td>3.0</td>\n",
       "      <td>PhD</td>\n",
       "      <td>Self-Employed</td>\n",
       "      <td>5.136225</td>\n",
       "      <td>Suburban</td>\n",
       "      <td>Comprehensive</td>\n",
       "      <td>1.0</td>\n",
       "      <td>3.0</td>\n",
       "      <td>770.0</td>\n",
       "      <td>5.0</td>\n",
       "      <td>2023-10-25 15:21:39.134960</td>\n",
       "      <td>Poor</td>\n",
       "      <td>Yes</td>\n",
       "      <td>Daily</td>\n",
       "      <td>House</td>\n",
       "    </tr>\n",
       "    <tr>\n",
       "      <th>4</th>\n",
       "      <td>1200004</td>\n",
       "      <td>24.0</td>\n",
       "      <td>Male</td>\n",
       "      <td>10863.0</td>\n",
       "      <td>Divorced</td>\n",
       "      <td>2.0</td>\n",
       "      <td>High School</td>\n",
       "      <td>Unemployed</td>\n",
       "      <td>11.844155</td>\n",
       "      <td>Suburban</td>\n",
       "      <td>Premium</td>\n",
       "      <td>NaN</td>\n",
       "      <td>14.0</td>\n",
       "      <td>755.0</td>\n",
       "      <td>7.0</td>\n",
       "      <td>2021-11-26 15:21:39.259788</td>\n",
       "      <td>Average</td>\n",
       "      <td>No</td>\n",
       "      <td>Weekly</td>\n",
       "      <td>House</td>\n",
       "    </tr>\n",
       "    <tr>\n",
       "      <th>...</th>\n",
       "      <td>...</td>\n",
       "      <td>...</td>\n",
       "      <td>...</td>\n",
       "      <td>...</td>\n",
       "      <td>...</td>\n",
       "      <td>...</td>\n",
       "      <td>...</td>\n",
       "      <td>...</td>\n",
       "      <td>...</td>\n",
       "      <td>...</td>\n",
       "      <td>...</td>\n",
       "      <td>...</td>\n",
       "      <td>...</td>\n",
       "      <td>...</td>\n",
       "      <td>...</td>\n",
       "      <td>...</td>\n",
       "      <td>...</td>\n",
       "      <td>...</td>\n",
       "      <td>...</td>\n",
       "      <td>...</td>\n",
       "    </tr>\n",
       "    <tr>\n",
       "      <th>799995</th>\n",
       "      <td>1999995</td>\n",
       "      <td>50.0</td>\n",
       "      <td>Female</td>\n",
       "      <td>38782.0</td>\n",
       "      <td>Married</td>\n",
       "      <td>1.0</td>\n",
       "      <td>Bachelor's</td>\n",
       "      <td>NaN</td>\n",
       "      <td>14.498639</td>\n",
       "      <td>Rural</td>\n",
       "      <td>Premium</td>\n",
       "      <td>NaN</td>\n",
       "      <td>8.0</td>\n",
       "      <td>309.0</td>\n",
       "      <td>2.0</td>\n",
       "      <td>2021-07-09 15:21:39.184157</td>\n",
       "      <td>Average</td>\n",
       "      <td>Yes</td>\n",
       "      <td>Daily</td>\n",
       "      <td>Condo</td>\n",
       "    </tr>\n",
       "    <tr>\n",
       "      <th>799996</th>\n",
       "      <td>1999996</td>\n",
       "      <td>NaN</td>\n",
       "      <td>Female</td>\n",
       "      <td>73462.0</td>\n",
       "      <td>Single</td>\n",
       "      <td>0.0</td>\n",
       "      <td>Master's</td>\n",
       "      <td>NaN</td>\n",
       "      <td>8.145748</td>\n",
       "      <td>Rural</td>\n",
       "      <td>Basic</td>\n",
       "      <td>2.0</td>\n",
       "      <td>0.0</td>\n",
       "      <td>NaN</td>\n",
       "      <td>2.0</td>\n",
       "      <td>2023-03-28 15:21:39.250151</td>\n",
       "      <td>Good</td>\n",
       "      <td>No</td>\n",
       "      <td>Daily</td>\n",
       "      <td>Apartment</td>\n",
       "    </tr>\n",
       "    <tr>\n",
       "      <th>799997</th>\n",
       "      <td>1999997</td>\n",
       "      <td>26.0</td>\n",
       "      <td>Female</td>\n",
       "      <td>35178.0</td>\n",
       "      <td>Single</td>\n",
       "      <td>0.0</td>\n",
       "      <td>Master's</td>\n",
       "      <td>Employed</td>\n",
       "      <td>6.636583</td>\n",
       "      <td>Urban</td>\n",
       "      <td>Comprehensive</td>\n",
       "      <td>NaN</td>\n",
       "      <td>10.0</td>\n",
       "      <td>NaN</td>\n",
       "      <td>6.0</td>\n",
       "      <td>2019-09-30 15:21:39.132191</td>\n",
       "      <td>Poor</td>\n",
       "      <td>No</td>\n",
       "      <td>Monthly</td>\n",
       "      <td>Apartment</td>\n",
       "    </tr>\n",
       "    <tr>\n",
       "      <th>799998</th>\n",
       "      <td>1999998</td>\n",
       "      <td>34.0</td>\n",
       "      <td>Female</td>\n",
       "      <td>45661.0</td>\n",
       "      <td>Single</td>\n",
       "      <td>3.0</td>\n",
       "      <td>Master's</td>\n",
       "      <td>NaN</td>\n",
       "      <td>15.937248</td>\n",
       "      <td>Urban</td>\n",
       "      <td>Premium</td>\n",
       "      <td>2.0</td>\n",
       "      <td>17.0</td>\n",
       "      <td>467.0</td>\n",
       "      <td>7.0</td>\n",
       "      <td>2022-05-09 15:21:39.253660</td>\n",
       "      <td>Average</td>\n",
       "      <td>No</td>\n",
       "      <td>Weekly</td>\n",
       "      <td>Condo</td>\n",
       "    </tr>\n",
       "    <tr>\n",
       "      <th>799999</th>\n",
       "      <td>1999999</td>\n",
       "      <td>25.0</td>\n",
       "      <td>Male</td>\n",
       "      <td>24843.0</td>\n",
       "      <td>Divorced</td>\n",
       "      <td>3.0</td>\n",
       "      <td>High School</td>\n",
       "      <td>NaN</td>\n",
       "      <td>24.893939</td>\n",
       "      <td>Suburban</td>\n",
       "      <td>Comprehensive</td>\n",
       "      <td>NaN</td>\n",
       "      <td>15.0</td>\n",
       "      <td>NaN</td>\n",
       "      <td>8.0</td>\n",
       "      <td>2021-05-18 15:21:39.108562</td>\n",
       "      <td>Good</td>\n",
       "      <td>No</td>\n",
       "      <td>Rarely</td>\n",
       "      <td>House</td>\n",
       "    </tr>\n",
       "  </tbody>\n",
       "</table>\n",
       "<p>800000 rows × 20 columns</p>\n",
       "</div>"
      ],
      "text/plain": [
       "             id   Age  Gender  Annual Income Marital Status  \\\n",
       "0       1200000  28.0  Female         2310.0            NaN   \n",
       "1       1200001  31.0  Female       126031.0        Married   \n",
       "2       1200002  47.0  Female        17092.0       Divorced   \n",
       "3       1200003  28.0  Female        30424.0       Divorced   \n",
       "4       1200004  24.0    Male        10863.0       Divorced   \n",
       "...         ...   ...     ...            ...            ...   \n",
       "799995  1999995  50.0  Female        38782.0        Married   \n",
       "799996  1999996   NaN  Female        73462.0         Single   \n",
       "799997  1999997  26.0  Female        35178.0         Single   \n",
       "799998  1999998  34.0  Female        45661.0         Single   \n",
       "799999  1999999  25.0    Male        24843.0       Divorced   \n",
       "\n",
       "        Number of Dependents Education Level     Occupation  Health Score  \\\n",
       "0                        4.0      Bachelor's  Self-Employed      7.657981   \n",
       "1                        2.0        Master's  Self-Employed     13.381379   \n",
       "2                        0.0             PhD     Unemployed     24.354527   \n",
       "3                        3.0             PhD  Self-Employed      5.136225   \n",
       "4                        2.0     High School     Unemployed     11.844155   \n",
       "...                      ...             ...            ...           ...   \n",
       "799995                   1.0      Bachelor's            NaN     14.498639   \n",
       "799996                   0.0        Master's            NaN      8.145748   \n",
       "799997                   0.0        Master's       Employed      6.636583   \n",
       "799998                   3.0        Master's            NaN     15.937248   \n",
       "799999                   3.0     High School            NaN     24.893939   \n",
       "\n",
       "        Location    Policy Type  Previous Claims  Vehicle Age  Credit Score  \\\n",
       "0          Rural          Basic              NaN         19.0           NaN   \n",
       "1       Suburban        Premium              NaN         14.0         372.0   \n",
       "2          Urban  Comprehensive              NaN         16.0         819.0   \n",
       "3       Suburban  Comprehensive              1.0          3.0         770.0   \n",
       "4       Suburban        Premium              NaN         14.0         755.0   \n",
       "...          ...            ...              ...          ...           ...   \n",
       "799995     Rural        Premium              NaN          8.0         309.0   \n",
       "799996     Rural          Basic              2.0          0.0           NaN   \n",
       "799997     Urban  Comprehensive              NaN         10.0           NaN   \n",
       "799998     Urban        Premium              2.0         17.0         467.0   \n",
       "799999  Suburban  Comprehensive              NaN         15.0           NaN   \n",
       "\n",
       "        Insurance Duration           Policy Start Date Customer Feedback  \\\n",
       "0                      1.0  2023-06-04 15:21:39.245086              Poor   \n",
       "1                      8.0  2024-04-22 15:21:39.224915              Good   \n",
       "2                      9.0  2023-04-05 15:21:39.134960           Average   \n",
       "3                      5.0  2023-10-25 15:21:39.134960              Poor   \n",
       "4                      7.0  2021-11-26 15:21:39.259788           Average   \n",
       "...                    ...                         ...               ...   \n",
       "799995                 2.0  2021-07-09 15:21:39.184157           Average   \n",
       "799996                 2.0  2023-03-28 15:21:39.250151              Good   \n",
       "799997                 6.0  2019-09-30 15:21:39.132191              Poor   \n",
       "799998                 7.0  2022-05-09 15:21:39.253660           Average   \n",
       "799999                 8.0  2021-05-18 15:21:39.108562              Good   \n",
       "\n",
       "       Smoking Status Exercise Frequency Property Type  \n",
       "0                 Yes             Weekly         House  \n",
       "1                 Yes             Rarely     Apartment  \n",
       "2                 Yes            Monthly         Condo  \n",
       "3                 Yes              Daily         House  \n",
       "4                  No             Weekly         House  \n",
       "...               ...                ...           ...  \n",
       "799995            Yes              Daily         Condo  \n",
       "799996             No              Daily     Apartment  \n",
       "799997             No            Monthly     Apartment  \n",
       "799998             No             Weekly         Condo  \n",
       "799999             No             Rarely         House  \n",
       "\n",
       "[800000 rows x 20 columns]"
      ]
     },
     "execution_count": 5,
     "metadata": {},
     "output_type": "execute_result"
    }
   ],
   "source": [
    "test"
   ]
  },
  {
   "cell_type": "code",
   "execution_count": 6,
   "metadata": {
    "execution": {
     "iopub.execute_input": "2024-12-23T08:31:20.601701Z",
     "iopub.status.busy": "2024-12-23T08:31:20.601208Z",
     "iopub.status.idle": "2024-12-23T08:31:20.608335Z",
     "shell.execute_reply": "2024-12-23T08:31:20.607011Z",
     "shell.execute_reply.started": "2024-12-23T08:31:20.601649Z"
    }
   },
   "outputs": [
    {
     "name": "stdout",
     "output_type": "stream",
     "text": [
      "train data:  (1200000, 21)\n",
      "test data:  (800000, 20)\n"
     ]
    }
   ],
   "source": [
    "print('train data: ', train.shape)\n",
    "print('test data: ', test.shape)"
   ]
  },
  {
   "cell_type": "code",
   "execution_count": 7,
   "metadata": {
    "execution": {
     "iopub.execute_input": "2024-12-23T08:31:20.610885Z",
     "iopub.status.busy": "2024-12-23T08:31:20.609710Z",
     "iopub.status.idle": "2024-12-23T08:31:20.624176Z",
     "shell.execute_reply": "2024-12-23T08:31:20.622698Z",
     "shell.execute_reply.started": "2024-12-23T08:31:20.610836Z"
    }
   },
   "outputs": [
    {
     "name": "stdout",
     "output_type": "stream",
     "text": [
      "train data: Index(['id', 'Age', 'Gender', 'Annual Income', 'Marital Status',\n",
      "       'Number of Dependents', 'Education Level', 'Occupation', 'Health Score',\n",
      "       'Location', 'Policy Type', 'Previous Claims', 'Vehicle Age',\n",
      "       'Credit Score', 'Insurance Duration', 'Policy Start Date',\n",
      "       'Customer Feedback', 'Smoking Status', 'Exercise Frequency',\n",
      "       'Property Type', 'Premium Amount'],\n",
      "      dtype='object')\n",
      "test data: Index(['id', 'Age', 'Gender', 'Annual Income', 'Marital Status',\n",
      "       'Number of Dependents', 'Education Level', 'Occupation', 'Health Score',\n",
      "       'Location', 'Policy Type', 'Previous Claims', 'Vehicle Age',\n",
      "       'Credit Score', 'Insurance Duration', 'Policy Start Date',\n",
      "       'Customer Feedback', 'Smoking Status', 'Exercise Frequency',\n",
      "       'Property Type'],\n",
      "      dtype='object')\n"
     ]
    }
   ],
   "source": [
    "print(\"train data:\", train.columns)\n",
    "print(\"test data:\", test.columns)"
   ]
  },
  {
   "cell_type": "code",
   "execution_count": 8,
   "metadata": {
    "execution": {
     "iopub.execute_input": "2024-12-23T08:31:20.626643Z",
     "iopub.status.busy": "2024-12-23T08:31:20.625817Z",
     "iopub.status.idle": "2024-12-23T08:31:21.372702Z",
     "shell.execute_reply": "2024-12-23T08:31:21.371451Z",
     "shell.execute_reply.started": "2024-12-23T08:31:20.626602Z"
    }
   },
   "outputs": [
    {
     "data": {
      "text/html": [
       "<div>\n",
       "<style scoped>\n",
       "    .dataframe tbody tr th:only-of-type {\n",
       "        vertical-align: middle;\n",
       "    }\n",
       "\n",
       "    .dataframe tbody tr th {\n",
       "        vertical-align: top;\n",
       "    }\n",
       "\n",
       "    .dataframe thead th {\n",
       "        text-align: right;\n",
       "    }\n",
       "</style>\n",
       "<table border=\"1\" class=\"dataframe\">\n",
       "  <thead>\n",
       "    <tr style=\"text-align: right;\">\n",
       "      <th></th>\n",
       "      <th>count</th>\n",
       "      <th>mean</th>\n",
       "      <th>std</th>\n",
       "      <th>min</th>\n",
       "      <th>25%</th>\n",
       "      <th>50%</th>\n",
       "      <th>75%</th>\n",
       "      <th>max</th>\n",
       "    </tr>\n",
       "  </thead>\n",
       "  <tbody>\n",
       "    <tr>\n",
       "      <th>id</th>\n",
       "      <td>1200000.0</td>\n",
       "      <td>599999.50</td>\n",
       "      <td>346410.31</td>\n",
       "      <td>0.00</td>\n",
       "      <td>299999.75</td>\n",
       "      <td>599999.50</td>\n",
       "      <td>899999.25</td>\n",
       "      <td>1199999.00</td>\n",
       "    </tr>\n",
       "    <tr>\n",
       "      <th>Age</th>\n",
       "      <td>1181295.0</td>\n",
       "      <td>41.15</td>\n",
       "      <td>13.54</td>\n",
       "      <td>18.00</td>\n",
       "      <td>30.00</td>\n",
       "      <td>41.00</td>\n",
       "      <td>53.00</td>\n",
       "      <td>64.00</td>\n",
       "    </tr>\n",
       "    <tr>\n",
       "      <th>Annual Income</th>\n",
       "      <td>1155051.0</td>\n",
       "      <td>32745.22</td>\n",
       "      <td>32179.51</td>\n",
       "      <td>1.00</td>\n",
       "      <td>8001.00</td>\n",
       "      <td>23911.00</td>\n",
       "      <td>44634.00</td>\n",
       "      <td>149997.00</td>\n",
       "    </tr>\n",
       "    <tr>\n",
       "      <th>Number of Dependents</th>\n",
       "      <td>1090328.0</td>\n",
       "      <td>2.01</td>\n",
       "      <td>1.42</td>\n",
       "      <td>0.00</td>\n",
       "      <td>1.00</td>\n",
       "      <td>2.00</td>\n",
       "      <td>3.00</td>\n",
       "      <td>4.00</td>\n",
       "    </tr>\n",
       "    <tr>\n",
       "      <th>Health Score</th>\n",
       "      <td>1125924.0</td>\n",
       "      <td>25.61</td>\n",
       "      <td>12.20</td>\n",
       "      <td>2.01</td>\n",
       "      <td>15.92</td>\n",
       "      <td>24.58</td>\n",
       "      <td>34.53</td>\n",
       "      <td>58.98</td>\n",
       "    </tr>\n",
       "    <tr>\n",
       "      <th>Previous Claims</th>\n",
       "      <td>835971.0</td>\n",
       "      <td>1.00</td>\n",
       "      <td>0.98</td>\n",
       "      <td>0.00</td>\n",
       "      <td>0.00</td>\n",
       "      <td>1.00</td>\n",
       "      <td>2.00</td>\n",
       "      <td>9.00</td>\n",
       "    </tr>\n",
       "    <tr>\n",
       "      <th>Vehicle Age</th>\n",
       "      <td>1199994.0</td>\n",
       "      <td>9.57</td>\n",
       "      <td>5.78</td>\n",
       "      <td>0.00</td>\n",
       "      <td>5.00</td>\n",
       "      <td>10.00</td>\n",
       "      <td>15.00</td>\n",
       "      <td>19.00</td>\n",
       "    </tr>\n",
       "    <tr>\n",
       "      <th>Credit Score</th>\n",
       "      <td>1062118.0</td>\n",
       "      <td>592.92</td>\n",
       "      <td>149.98</td>\n",
       "      <td>300.00</td>\n",
       "      <td>468.00</td>\n",
       "      <td>595.00</td>\n",
       "      <td>721.00</td>\n",
       "      <td>849.00</td>\n",
       "    </tr>\n",
       "    <tr>\n",
       "      <th>Insurance Duration</th>\n",
       "      <td>1199999.0</td>\n",
       "      <td>5.02</td>\n",
       "      <td>2.59</td>\n",
       "      <td>1.00</td>\n",
       "      <td>3.00</td>\n",
       "      <td>5.00</td>\n",
       "      <td>7.00</td>\n",
       "      <td>9.00</td>\n",
       "    </tr>\n",
       "    <tr>\n",
       "      <th>Premium Amount</th>\n",
       "      <td>1200000.0</td>\n",
       "      <td>1102.54</td>\n",
       "      <td>865.00</td>\n",
       "      <td>20.00</td>\n",
       "      <td>514.00</td>\n",
       "      <td>872.00</td>\n",
       "      <td>1509.00</td>\n",
       "      <td>4999.00</td>\n",
       "    </tr>\n",
       "  </tbody>\n",
       "</table>\n",
       "</div>"
      ],
      "text/plain": [
       "                          count       mean        std     min        25%  \\\n",
       "id                    1200000.0  599999.50  346410.31    0.00  299999.75   \n",
       "Age                   1181295.0      41.15      13.54   18.00      30.00   \n",
       "Annual Income         1155051.0   32745.22   32179.51    1.00    8001.00   \n",
       "Number of Dependents  1090328.0       2.01       1.42    0.00       1.00   \n",
       "Health Score          1125924.0      25.61      12.20    2.01      15.92   \n",
       "Previous Claims        835971.0       1.00       0.98    0.00       0.00   \n",
       "Vehicle Age           1199994.0       9.57       5.78    0.00       5.00   \n",
       "Credit Score          1062118.0     592.92     149.98  300.00     468.00   \n",
       "Insurance Duration    1199999.0       5.02       2.59    1.00       3.00   \n",
       "Premium Amount        1200000.0    1102.54     865.00   20.00     514.00   \n",
       "\n",
       "                            50%        75%         max  \n",
       "id                    599999.50  899999.25  1199999.00  \n",
       "Age                       41.00      53.00       64.00  \n",
       "Annual Income          23911.00   44634.00   149997.00  \n",
       "Number of Dependents       2.00       3.00        4.00  \n",
       "Health Score              24.58      34.53       58.98  \n",
       "Previous Claims            1.00       2.00        9.00  \n",
       "Vehicle Age               10.00      15.00       19.00  \n",
       "Credit Score             595.00     721.00      849.00  \n",
       "Insurance Duration         5.00       7.00        9.00  \n",
       "Premium Amount           872.00    1509.00     4999.00  "
      ]
     },
     "execution_count": 8,
     "metadata": {},
     "output_type": "execute_result"
    }
   ],
   "source": [
    "train.describe().round(2).T"
   ]
  },
  {
   "cell_type": "markdown",
   "metadata": {},
   "source": [
    "# **Explore Columns and Data types:**"
   ]
  },
  {
   "cell_type": "markdown",
   "metadata": {},
   "source": [
    "# Column Description:\n",
    "\n",
    "id: Unique identifier for each customer.\n",
    "\n",
    "Age: Age of the customer in years.\n",
    "\n",
    "Gender: Gender of the customer (e.g., Male, Female).\n",
    "\n",
    "Annual Income: Annual income of the customer in currency units.\n",
    "\n",
    "Marital Status: Marital status of the customer (e.g., Single, Married).\n",
    "\n",
    "Number of Dependents: Number of dependents the customer has.(Number of Dependents refers to the number of individuals financially dependent on the customer. These could include children, elderly parents, or any other family members who rely on the customer for financial support.)\n",
    "\n",
    "Education Level: Customer's highest level of education.\n",
    "\n",
    "Occupation: Customer's occupation or job role.\n",
    "\n",
    "Health Score: A numerical representation of the customer's health condition.\n",
    "\n",
    "Location: Geographic location of the customer.\n",
    "\n",
    "Policy Type: Type of insurance policy the customer holds.\n",
    "\n",
    "Previous Claims: Number of previous insurance claims made by the customer.\n",
    "\n",
    "Vehicle Age: Age of the vehicle in years.\n",
    "\n",
    "Credit Score: Customer's creditworthiness score.\n",
    "\n",
    "Insurance Duration: Duration of the current insurance policy.\n",
    "\n",
    "Policy Start Date: Start date of the insurance policy.\n",
    "\n",
    "Customer Feedback: Feedback or ratings provided by the customer.\n",
    "\n",
    "Smoking Status: Whether the customer is a smoker or not.\n",
    "\n",
    "Exercise Frequency: Frequency of physical exercise by the customer.\n",
    "\n",
    "Property Type: Type of property the customer owns (e.g., Apartment, House).\n",
    "\n",
    "Premium Amount: The amount paid as the insurance premium.\n"
   ]
  },
  {
   "cell_type": "code",
   "execution_count": 9,
   "metadata": {
    "execution": {
     "iopub.execute_input": "2024-12-23T08:31:21.374409Z",
     "iopub.status.busy": "2024-12-23T08:31:21.374076Z",
     "iopub.status.idle": "2024-12-23T08:31:22.022745Z",
     "shell.execute_reply": "2024-12-23T08:31:22.021159Z",
     "shell.execute_reply.started": "2024-12-23T08:31:21.374372Z"
    }
   },
   "outputs": [
    {
     "name": "stdout",
     "output_type": "stream",
     "text": [
      "<class 'pandas.core.frame.DataFrame'>\n",
      "RangeIndex: 1200000 entries, 0 to 1199999\n",
      "Data columns (total 21 columns):\n",
      " #   Column                Non-Null Count    Dtype  \n",
      "---  ------                --------------    -----  \n",
      " 0   id                    1200000 non-null  int64  \n",
      " 1   Age                   1181295 non-null  float64\n",
      " 2   Gender                1200000 non-null  object \n",
      " 3   Annual Income         1155051 non-null  float64\n",
      " 4   Marital Status        1181471 non-null  object \n",
      " 5   Number of Dependents  1090328 non-null  float64\n",
      " 6   Education Level       1200000 non-null  object \n",
      " 7   Occupation            841925 non-null   object \n",
      " 8   Health Score          1125924 non-null  float64\n",
      " 9   Location              1200000 non-null  object \n",
      " 10  Policy Type           1200000 non-null  object \n",
      " 11  Previous Claims       835971 non-null   float64\n",
      " 12  Vehicle Age           1199994 non-null  float64\n",
      " 13  Credit Score          1062118 non-null  float64\n",
      " 14  Insurance Duration    1199999 non-null  float64\n",
      " 15  Policy Start Date     1200000 non-null  object \n",
      " 16  Customer Feedback     1122176 non-null  object \n",
      " 17  Smoking Status        1200000 non-null  object \n",
      " 18  Exercise Frequency    1200000 non-null  object \n",
      " 19  Property Type         1200000 non-null  object \n",
      " 20  Premium Amount        1200000 non-null  float64\n",
      "dtypes: float64(9), int64(1), object(11)\n",
      "memory usage: 192.3+ MB\n"
     ]
    }
   ],
   "source": [
    "train.info()"
   ]
  },
  {
   "cell_type": "markdown",
   "metadata": {},
   "source": [
    "**Irrelevant Columns:**\n",
    "\n",
    "**1.Policy Start Date:** The date itself doesn’t usually determine how much premium should be charged. Instead, what might matter is the duration of the policy .\n",
    "\n",
    "**2.Customer Feedback:** The feedback is subjective and reflects the customer’s perception, not their risk profile or the cost factors that influence premium calculations.\n",
    "\n",
    "**3.Location:** The geographic location of the customer.If location is strongly correlated with other variables like accident rates, medical costs, or property values, it might influence the premium"
   ]
  },
  {
   "cell_type": "code",
   "execution_count": 10,
   "metadata": {
    "execution": {
     "iopub.execute_input": "2024-12-23T08:31:22.024660Z",
     "iopub.status.busy": "2024-12-23T08:31:22.024284Z",
     "iopub.status.idle": "2024-12-23T08:31:22.344378Z",
     "shell.execute_reply": "2024-12-23T08:31:22.343284Z",
     "shell.execute_reply.started": "2024-12-23T08:31:22.024627Z"
    }
   },
   "outputs": [],
   "source": [
    "train.drop(columns=['id','Policy Start Date','Location','Customer Feedback'],inplace=True)\n",
    "\n",
    "test.drop(columns=['Policy Start Date','Location','Customer Feedback'],inplace=True)"
   ]
  },
  {
   "cell_type": "markdown",
   "metadata": {},
   "source": [
    "# **Missing Values and Duplicate Values:**"
   ]
  },
  {
   "cell_type": "code",
   "execution_count": 11,
   "metadata": {
    "execution": {
     "iopub.execute_input": "2024-12-23T08:31:22.346184Z",
     "iopub.status.busy": "2024-12-23T08:31:22.345766Z",
     "iopub.status.idle": "2024-12-23T08:31:22.860176Z",
     "shell.execute_reply": "2024-12-23T08:31:22.858884Z",
     "shell.execute_reply.started": "2024-12-23T08:31:22.346147Z"
    }
   },
   "outputs": [
    {
     "data": {
      "text/plain": [
       "Age                      18705\n",
       "Gender                       0\n",
       "Annual Income            44949\n",
       "Marital Status           18529\n",
       "Number of Dependents    109672\n",
       "Education Level              0\n",
       "Occupation              358075\n",
       "Health Score             74076\n",
       "Policy Type                  0\n",
       "Previous Claims         364029\n",
       "Vehicle Age                  6\n",
       "Credit Score            137882\n",
       "Insurance Duration           1\n",
       "Smoking Status               0\n",
       "Exercise Frequency           0\n",
       "Property Type                0\n",
       "Premium Amount               0\n",
       "dtype: int64"
      ]
     },
     "execution_count": 11,
     "metadata": {},
     "output_type": "execute_result"
    }
   ],
   "source": [
    "train.isnull().sum()"
   ]
  },
  {
   "cell_type": "code",
   "execution_count": 12,
   "metadata": {
    "execution": {
     "iopub.execute_input": "2024-12-23T08:31:22.861772Z",
     "iopub.status.busy": "2024-12-23T08:31:22.861449Z",
     "iopub.status.idle": "2024-12-23T08:31:23.183248Z",
     "shell.execute_reply": "2024-12-23T08:31:23.181862Z",
     "shell.execute_reply.started": "2024-12-23T08:31:22.861743Z"
    }
   },
   "outputs": [
    {
     "data": {
      "text/plain": [
       "id                           0\n",
       "Age                      12489\n",
       "Gender                       0\n",
       "Annual Income            29860\n",
       "Marital Status           12336\n",
       "Number of Dependents     73130\n",
       "Education Level              0\n",
       "Occupation              239125\n",
       "Health Score             49449\n",
       "Policy Type                  0\n",
       "Previous Claims         242802\n",
       "Vehicle Age                  3\n",
       "Credit Score             91451\n",
       "Insurance Duration           2\n",
       "Smoking Status               0\n",
       "Exercise Frequency           0\n",
       "Property Type                0\n",
       "dtype: int64"
      ]
     },
     "execution_count": 12,
     "metadata": {},
     "output_type": "execute_result"
    }
   ],
   "source": [
    "test.isnull().sum()"
   ]
  },
  {
   "cell_type": "code",
   "execution_count": 13,
   "metadata": {
    "execution": {
     "iopub.execute_input": "2024-12-23T08:31:23.185076Z",
     "iopub.status.busy": "2024-12-23T08:31:23.184687Z",
     "iopub.status.idle": "2024-12-23T08:31:24.514085Z",
     "shell.execute_reply": "2024-12-23T08:31:24.512381Z",
     "shell.execute_reply.started": "2024-12-23T08:31:23.185038Z"
    }
   },
   "outputs": [
    {
     "data": {
      "text/plain": [
       "3"
      ]
     },
     "execution_count": 13,
     "metadata": {},
     "output_type": "execute_result"
    }
   ],
   "source": [
    "train.duplicated().sum()"
   ]
  },
  {
   "cell_type": "code",
   "execution_count": 14,
   "metadata": {
    "execution": {
     "iopub.execute_input": "2024-12-23T08:31:24.520301Z",
     "iopub.status.busy": "2024-12-23T08:31:24.519828Z",
     "iopub.status.idle": "2024-12-23T08:31:25.294606Z",
     "shell.execute_reply": "2024-12-23T08:31:25.293070Z",
     "shell.execute_reply.started": "2024-12-23T08:31:24.520261Z"
    }
   },
   "outputs": [
    {
     "data": {
      "text/plain": [
       "0"
      ]
     },
     "execution_count": 14,
     "metadata": {},
     "output_type": "execute_result"
    }
   ],
   "source": [
    "test.duplicated().sum()"
   ]
  },
  {
   "cell_type": "markdown",
   "metadata": {},
   "source": [
    "# **Numerical and Categorical Columns**"
   ]
  },
  {
   "cell_type": "code",
   "execution_count": 15,
   "metadata": {
    "execution": {
     "iopub.execute_input": "2024-12-23T08:31:25.296694Z",
     "iopub.status.busy": "2024-12-23T08:31:25.296316Z",
     "iopub.status.idle": "2024-12-23T08:31:25.451552Z",
     "shell.execute_reply": "2024-12-23T08:31:25.450237Z",
     "shell.execute_reply.started": "2024-12-23T08:31:25.296658Z"
    }
   },
   "outputs": [
    {
     "name": "stdout",
     "output_type": "stream",
     "text": [
      "Target Column : Premium Amount\n",
      "\n",
      "Numerical Columns : ['Age', 'Annual Income', 'Number of Dependents', 'Health Score', 'Previous Claims', 'Vehicle Age', 'Credit Score', 'Insurance Duration', 'Premium Amount']\n",
      "\n",
      "Categorical Columns : ['Gender', 'Marital Status', 'Education Level', 'Occupation', 'Policy Type', 'Smoking Status', 'Exercise Frequency', 'Property Type']\n"
     ]
    }
   ],
   "source": [
    "tar_col ='Premium Amount';\n",
    "num_col = train.select_dtypes(include = ['number']).columns\n",
    "cat_col = train.select_dtypes(include = ['object']).columns\n",
    "print(\"Target Column :\" ,tar_col)\n",
    "print( \"\\nNumerical Columns :\" , num_col.tolist())\n",
    "print( \"\\nCategorical Columns :\" , cat_col.tolist())"
   ]
  },
  {
   "cell_type": "code",
   "execution_count": 16,
   "metadata": {
    "execution": {
     "iopub.execute_input": "2024-12-23T08:31:25.453554Z",
     "iopub.status.busy": "2024-12-23T08:31:25.453194Z",
     "iopub.status.idle": "2024-12-23T08:31:25.584231Z",
     "shell.execute_reply": "2024-12-23T08:31:25.582832Z",
     "shell.execute_reply.started": "2024-12-23T08:31:25.453522Z"
    }
   },
   "outputs": [],
   "source": [
    "num_data=train.select_dtypes(include=['number'])\n",
    "cat_data=train.select_dtypes(include=['object'])"
   ]
  },
  {
   "cell_type": "code",
   "execution_count": 17,
   "metadata": {
    "execution": {
     "iopub.execute_input": "2024-12-23T08:31:25.586132Z",
     "iopub.status.busy": "2024-12-23T08:31:25.585727Z",
     "iopub.status.idle": "2024-12-23T08:31:26.296944Z",
     "shell.execute_reply": "2024-12-23T08:31:26.295792Z",
     "shell.execute_reply.started": "2024-12-23T08:31:25.586097Z"
    }
   },
   "outputs": [
    {
     "name": "stdout",
     "output_type": "stream",
     "text": [
      "Numerical Data Distribution!\n"
     ]
    },
    {
     "data": {
      "text/html": [
       "<div>\n",
       "<style scoped>\n",
       "    .dataframe tbody tr th:only-of-type {\n",
       "        vertical-align: middle;\n",
       "    }\n",
       "\n",
       "    .dataframe tbody tr th {\n",
       "        vertical-align: top;\n",
       "    }\n",
       "\n",
       "    .dataframe thead th {\n",
       "        text-align: right;\n",
       "    }\n",
       "</style>\n",
       "<table border=\"1\" class=\"dataframe\">\n",
       "  <thead>\n",
       "    <tr style=\"text-align: right;\">\n",
       "      <th></th>\n",
       "      <th>count</th>\n",
       "      <th>mean</th>\n",
       "      <th>std</th>\n",
       "      <th>min</th>\n",
       "      <th>25%</th>\n",
       "      <th>50%</th>\n",
       "      <th>75%</th>\n",
       "      <th>max</th>\n",
       "    </tr>\n",
       "  </thead>\n",
       "  <tbody>\n",
       "    <tr>\n",
       "      <th>Age</th>\n",
       "      <td>1181295.0</td>\n",
       "      <td>41.15</td>\n",
       "      <td>13.54</td>\n",
       "      <td>18.00</td>\n",
       "      <td>30.00</td>\n",
       "      <td>41.00</td>\n",
       "      <td>53.00</td>\n",
       "      <td>64.00</td>\n",
       "    </tr>\n",
       "    <tr>\n",
       "      <th>Annual Income</th>\n",
       "      <td>1155051.0</td>\n",
       "      <td>32745.22</td>\n",
       "      <td>32179.51</td>\n",
       "      <td>1.00</td>\n",
       "      <td>8001.00</td>\n",
       "      <td>23911.00</td>\n",
       "      <td>44634.00</td>\n",
       "      <td>149997.00</td>\n",
       "    </tr>\n",
       "    <tr>\n",
       "      <th>Number of Dependents</th>\n",
       "      <td>1090328.0</td>\n",
       "      <td>2.01</td>\n",
       "      <td>1.42</td>\n",
       "      <td>0.00</td>\n",
       "      <td>1.00</td>\n",
       "      <td>2.00</td>\n",
       "      <td>3.00</td>\n",
       "      <td>4.00</td>\n",
       "    </tr>\n",
       "    <tr>\n",
       "      <th>Health Score</th>\n",
       "      <td>1125924.0</td>\n",
       "      <td>25.61</td>\n",
       "      <td>12.20</td>\n",
       "      <td>2.01</td>\n",
       "      <td>15.92</td>\n",
       "      <td>24.58</td>\n",
       "      <td>34.53</td>\n",
       "      <td>58.98</td>\n",
       "    </tr>\n",
       "    <tr>\n",
       "      <th>Previous Claims</th>\n",
       "      <td>835971.0</td>\n",
       "      <td>1.00</td>\n",
       "      <td>0.98</td>\n",
       "      <td>0.00</td>\n",
       "      <td>0.00</td>\n",
       "      <td>1.00</td>\n",
       "      <td>2.00</td>\n",
       "      <td>9.00</td>\n",
       "    </tr>\n",
       "    <tr>\n",
       "      <th>Vehicle Age</th>\n",
       "      <td>1199994.0</td>\n",
       "      <td>9.57</td>\n",
       "      <td>5.78</td>\n",
       "      <td>0.00</td>\n",
       "      <td>5.00</td>\n",
       "      <td>10.00</td>\n",
       "      <td>15.00</td>\n",
       "      <td>19.00</td>\n",
       "    </tr>\n",
       "    <tr>\n",
       "      <th>Credit Score</th>\n",
       "      <td>1062118.0</td>\n",
       "      <td>592.92</td>\n",
       "      <td>149.98</td>\n",
       "      <td>300.00</td>\n",
       "      <td>468.00</td>\n",
       "      <td>595.00</td>\n",
       "      <td>721.00</td>\n",
       "      <td>849.00</td>\n",
       "    </tr>\n",
       "    <tr>\n",
       "      <th>Insurance Duration</th>\n",
       "      <td>1199999.0</td>\n",
       "      <td>5.02</td>\n",
       "      <td>2.59</td>\n",
       "      <td>1.00</td>\n",
       "      <td>3.00</td>\n",
       "      <td>5.00</td>\n",
       "      <td>7.00</td>\n",
       "      <td>9.00</td>\n",
       "    </tr>\n",
       "    <tr>\n",
       "      <th>Premium Amount</th>\n",
       "      <td>1200000.0</td>\n",
       "      <td>1102.54</td>\n",
       "      <td>865.00</td>\n",
       "      <td>20.00</td>\n",
       "      <td>514.00</td>\n",
       "      <td>872.00</td>\n",
       "      <td>1509.00</td>\n",
       "      <td>4999.00</td>\n",
       "    </tr>\n",
       "  </tbody>\n",
       "</table>\n",
       "</div>"
      ],
      "text/plain": [
       "                          count      mean       std     min      25%  \\\n",
       "Age                   1181295.0     41.15     13.54   18.00    30.00   \n",
       "Annual Income         1155051.0  32745.22  32179.51    1.00  8001.00   \n",
       "Number of Dependents  1090328.0      2.01      1.42    0.00     1.00   \n",
       "Health Score          1125924.0     25.61     12.20    2.01    15.92   \n",
       "Previous Claims        835971.0      1.00      0.98    0.00     0.00   \n",
       "Vehicle Age           1199994.0      9.57      5.78    0.00     5.00   \n",
       "Credit Score          1062118.0    592.92    149.98  300.00   468.00   \n",
       "Insurance Duration    1199999.0      5.02      2.59    1.00     3.00   \n",
       "Premium Amount        1200000.0   1102.54    865.00   20.00   514.00   \n",
       "\n",
       "                           50%       75%        max  \n",
       "Age                      41.00     53.00      64.00  \n",
       "Annual Income         23911.00  44634.00  149997.00  \n",
       "Number of Dependents      2.00      3.00       4.00  \n",
       "Health Score             24.58     34.53      58.98  \n",
       "Previous Claims           1.00      2.00       9.00  \n",
       "Vehicle Age              10.00     15.00      19.00  \n",
       "Credit Score            595.00    721.00     849.00  \n",
       "Insurance Duration        5.00      7.00       9.00  \n",
       "Premium Amount          872.00   1509.00    4999.00  "
      ]
     },
     "execution_count": 17,
     "metadata": {},
     "output_type": "execute_result"
    }
   ],
   "source": [
    "print('Numerical Data Distribution!')\n",
    "num_data.describe().round(2).T"
   ]
  },
  {
   "cell_type": "code",
   "execution_count": 18,
   "metadata": {
    "execution": {
     "iopub.execute_input": "2024-12-23T08:31:26.298824Z",
     "iopub.status.busy": "2024-12-23T08:31:26.298306Z",
     "iopub.status.idle": "2024-12-23T08:31:27.476641Z",
     "shell.execute_reply": "2024-12-23T08:31:27.475375Z",
     "shell.execute_reply.started": "2024-12-23T08:31:26.298766Z"
    }
   },
   "outputs": [
    {
     "name": "stdout",
     "output_type": "stream",
     "text": [
      "Categorical Data Dsicription!\n"
     ]
    },
    {
     "data": {
      "text/html": [
       "<div>\n",
       "<style scoped>\n",
       "    .dataframe tbody tr th:only-of-type {\n",
       "        vertical-align: middle;\n",
       "    }\n",
       "\n",
       "    .dataframe tbody tr th {\n",
       "        vertical-align: top;\n",
       "    }\n",
       "\n",
       "    .dataframe thead th {\n",
       "        text-align: right;\n",
       "    }\n",
       "</style>\n",
       "<table border=\"1\" class=\"dataframe\">\n",
       "  <thead>\n",
       "    <tr style=\"text-align: right;\">\n",
       "      <th></th>\n",
       "      <th>count</th>\n",
       "      <th>unique</th>\n",
       "      <th>top</th>\n",
       "      <th>freq</th>\n",
       "    </tr>\n",
       "  </thead>\n",
       "  <tbody>\n",
       "    <tr>\n",
       "      <th>Gender</th>\n",
       "      <td>1200000</td>\n",
       "      <td>2</td>\n",
       "      <td>Male</td>\n",
       "      <td>602571</td>\n",
       "    </tr>\n",
       "    <tr>\n",
       "      <th>Marital Status</th>\n",
       "      <td>1181471</td>\n",
       "      <td>3</td>\n",
       "      <td>Single</td>\n",
       "      <td>395391</td>\n",
       "    </tr>\n",
       "    <tr>\n",
       "      <th>Education Level</th>\n",
       "      <td>1200000</td>\n",
       "      <td>4</td>\n",
       "      <td>Master's</td>\n",
       "      <td>303818</td>\n",
       "    </tr>\n",
       "    <tr>\n",
       "      <th>Occupation</th>\n",
       "      <td>841925</td>\n",
       "      <td>3</td>\n",
       "      <td>Employed</td>\n",
       "      <td>282750</td>\n",
       "    </tr>\n",
       "    <tr>\n",
       "      <th>Policy Type</th>\n",
       "      <td>1200000</td>\n",
       "      <td>3</td>\n",
       "      <td>Premium</td>\n",
       "      <td>401846</td>\n",
       "    </tr>\n",
       "    <tr>\n",
       "      <th>Smoking Status</th>\n",
       "      <td>1200000</td>\n",
       "      <td>2</td>\n",
       "      <td>Yes</td>\n",
       "      <td>601873</td>\n",
       "    </tr>\n",
       "    <tr>\n",
       "      <th>Exercise Frequency</th>\n",
       "      <td>1200000</td>\n",
       "      <td>4</td>\n",
       "      <td>Weekly</td>\n",
       "      <td>306179</td>\n",
       "    </tr>\n",
       "    <tr>\n",
       "      <th>Property Type</th>\n",
       "      <td>1200000</td>\n",
       "      <td>3</td>\n",
       "      <td>House</td>\n",
       "      <td>400349</td>\n",
       "    </tr>\n",
       "  </tbody>\n",
       "</table>\n",
       "</div>"
      ],
      "text/plain": [
       "                      count unique       top    freq\n",
       "Gender              1200000      2      Male  602571\n",
       "Marital Status      1181471      3    Single  395391\n",
       "Education Level     1200000      4  Master's  303818\n",
       "Occupation           841925      3  Employed  282750\n",
       "Policy Type         1200000      3   Premium  401846\n",
       "Smoking Status      1200000      2       Yes  601873\n",
       "Exercise Frequency  1200000      4    Weekly  306179\n",
       "Property Type       1200000      3     House  400349"
      ]
     },
     "execution_count": 18,
     "metadata": {},
     "output_type": "execute_result"
    }
   ],
   "source": [
    "print(\"Categorical Data Dsicription!\")\n",
    "cat_data.describe().T"
   ]
  },
  {
   "cell_type": "code",
   "execution_count": 19,
   "metadata": {
    "execution": {
     "iopub.execute_input": "2024-12-23T08:31:27.478686Z",
     "iopub.status.busy": "2024-12-23T08:31:27.478207Z",
     "iopub.status.idle": "2024-12-23T08:31:27.981957Z",
     "shell.execute_reply": "2024-12-23T08:31:27.980433Z",
     "shell.execute_reply.started": "2024-12-23T08:31:27.478638Z"
    }
   },
   "outputs": [
    {
     "name": "stdout",
     "output_type": "stream",
     "text": [
      "Gender has 2 unqiue_values: \n",
      "----------------------------------------\n",
      "Marital Status has 3 unqiue_values: \n",
      "----------------------------------------\n",
      "Education Level has 4 unqiue_values: \n",
      "----------------------------------------\n",
      "Occupation has 3 unqiue_values: \n",
      "----------------------------------------\n",
      "Policy Type has 3 unqiue_values: \n",
      "----------------------------------------\n",
      "Smoking Status has 2 unqiue_values: \n",
      "----------------------------------------\n",
      "Exercise Frequency has 4 unqiue_values: \n",
      "----------------------------------------\n",
      "Property Type has 3 unqiue_values: \n",
      "----------------------------------------\n"
     ]
    }
   ],
   "source": [
    "for c in cat_data:\n",
    "    col_count=train[c].nunique()\n",
    "    print(f'{c} has {col_count} unqiue_values: ')\n",
    "    print(\"--\"*20)"
   ]
  },
  {
   "cell_type": "code",
   "execution_count": 20,
   "metadata": {
    "execution": {
     "iopub.execute_input": "2024-12-23T08:31:27.984083Z",
     "iopub.status.busy": "2024-12-23T08:31:27.983649Z",
     "iopub.status.idle": "2024-12-23T08:31:28.740089Z",
     "shell.execute_reply": "2024-12-23T08:31:28.738812Z",
     "shell.execute_reply.started": "2024-12-23T08:31:27.984046Z"
    }
   },
   "outputs": [
    {
     "name": "stdout",
     "output_type": "stream",
     "text": [
      "Value Count for Gender\n",
      "Gender\n",
      "Male      602571\n",
      "Female    597429\n",
      "Name: count, dtype: int64\n",
      "****************************************\n",
      "Value Count for Marital Status\n",
      "Marital Status\n",
      "Single      395391\n",
      "Married     394316\n",
      "Divorced    391764\n",
      "Name: count, dtype: int64\n",
      "****************************************\n",
      "Value Count for Education Level\n",
      "Education Level\n",
      "Master's       303818\n",
      "PhD            303507\n",
      "Bachelor's     303234\n",
      "High School    289441\n",
      "Name: count, dtype: int64\n",
      "****************************************\n",
      "Value Count for Occupation\n",
      "Occupation\n",
      "Employed         282750\n",
      "Self-Employed    282645\n",
      "Unemployed       276530\n",
      "Name: count, dtype: int64\n",
      "****************************************\n",
      "Value Count for Policy Type\n",
      "Policy Type\n",
      "Premium          401846\n",
      "Comprehensive    399600\n",
      "Basic            398554\n",
      "Name: count, dtype: int64\n",
      "****************************************\n",
      "Value Count for Smoking Status\n",
      "Smoking Status\n",
      "Yes    601873\n",
      "No     598127\n",
      "Name: count, dtype: int64\n",
      "****************************************\n",
      "Value Count for Exercise Frequency\n",
      "Exercise Frequency\n",
      "Weekly     306179\n",
      "Monthly    299830\n",
      "Rarely     299420\n",
      "Daily      294571\n",
      "Name: count, dtype: int64\n",
      "****************************************\n",
      "Value Count for Property Type\n",
      "Property Type\n",
      "House        400349\n",
      "Apartment    399978\n",
      "Condo        399673\n",
      "Name: count, dtype: int64\n",
      "****************************************\n"
     ]
    }
   ],
   "source": [
    "for i in cat_col:\n",
    "    cat_value=train[i].value_counts()\n",
    "    print(f\"Value Count for {i}\")\n",
    "    print(cat_value)\n",
    "    print(\"*\"*40)"
   ]
  },
  {
   "cell_type": "markdown",
   "metadata": {},
   "source": [
    "# **3.Data Preprocessing**:"
   ]
  },
  {
   "cell_type": "markdown",
   "metadata": {},
   "source": [
    "# **Data Coversion**"
   ]
  },
  {
   "cell_type": "code",
   "execution_count": 21,
   "metadata": {
    "execution": {
     "iopub.execute_input": "2024-12-23T08:31:28.742137Z",
     "iopub.status.busy": "2024-12-23T08:31:28.741727Z",
     "iopub.status.idle": "2024-12-23T08:31:28.802673Z",
     "shell.execute_reply": "2024-12-23T08:31:28.801496Z",
     "shell.execute_reply.started": "2024-12-23T08:31:28.742098Z"
    }
   },
   "outputs": [],
   "source": [
    "conversion_column=['Age','Number of Dependents','Previous Claims','Vehicle Age','Insurance Duration']\n",
    "for i in conversion_column:\n",
    "    train[i]=train[i].fillna(0).astype(int)\n",
    "    "
   ]
  },
  {
   "cell_type": "markdown",
   "metadata": {},
   "source": [
    "**Check the Percentage of Rows Affected:**\n"
   ]
  },
  {
   "cell_type": "code",
   "execution_count": 22,
   "metadata": {
    "execution": {
     "iopub.execute_input": "2024-12-23T08:31:28.804310Z",
     "iopub.status.busy": "2024-12-23T08:31:28.803919Z",
     "iopub.status.idle": "2024-12-23T08:31:28.914841Z",
     "shell.execute_reply": "2024-12-23T08:31:28.913447Z",
     "shell.execute_reply.started": "2024-12-23T08:31:28.804276Z"
    }
   },
   "outputs": [
    {
     "name": "stdout",
     "output_type": "stream",
     "text": [
      "29.839583333333337\n"
     ]
    }
   ],
   "source": [
    "# Percentage of rows with nulls in 'Occupation' and 'Previous Claims'\n",
    "affected_rows = train[train['Occupation'].isnull() | train['Previous Claims'].isnull()]\n",
    "print(len(affected_rows) / len(train) * 100)\n"
   ]
  },
  {
   "cell_type": "markdown",
   "metadata": {},
   "source": [
    "**If a large percentage of rows  >20% are affected, dropping these rows might harm the dataset's quality.**"
   ]
  },
  {
   "cell_type": "code",
   "execution_count": 23,
   "metadata": {
    "execution": {
     "iopub.execute_input": "2024-12-23T08:31:28.917336Z",
     "iopub.status.busy": "2024-12-23T08:31:28.916888Z",
     "iopub.status.idle": "2024-12-23T08:31:29.567280Z",
     "shell.execute_reply": "2024-12-23T08:31:29.565966Z",
     "shell.execute_reply.started": "2024-12-23T08:31:28.917299Z"
    }
   },
   "outputs": [
    {
     "data": {
      "image/png": "[encoded data removed]",
      "text/plain": [
       "<Figure size 640x480 with 1 Axes>"
      ]
     },
     "metadata": {},
     "output_type": "display_data"
    }
   ],
   "source": [
    "# Example: Compare 'Age' distribution\n",
    "import matplotlib.pyplot as plt\n",
    "plt.hist(train[train['Occupation'].isnull()]['Age'], alpha=0.5, label='Missing Occupation')\n",
    "plt.hist(train[train['Occupation'].notnull()]['Age'], alpha=0.5, label='Non-Missing Occupation')\n",
    "plt.legend()\n",
    "plt.show()\n"
   ]
  },
  {
   "cell_type": "code",
   "execution_count": 24,
   "metadata": {
    "execution": {
     "iopub.execute_input": "2024-12-23T08:31:29.569019Z",
     "iopub.status.busy": "2024-12-23T08:31:29.568651Z",
     "iopub.status.idle": "2024-12-23T08:31:29.734170Z",
     "shell.execute_reply": "2024-12-23T08:31:29.732858Z",
     "shell.execute_reply.started": "2024-12-23T08:31:29.568953Z"
    }
   },
   "outputs": [],
   "source": [
    "X=train.drop('Premium Amount',axis=1)\n",
    "y=train['Premium Amount']"
   ]
  },
  {
   "cell_type": "code",
   "execution_count": 25,
   "metadata": {
    "execution": {
     "iopub.execute_input": "2024-12-23T08:31:29.736021Z",
     "iopub.status.busy": "2024-12-23T08:31:29.735617Z",
     "iopub.status.idle": "2024-12-23T08:31:29.742715Z",
     "shell.execute_reply": "2024-12-23T08:31:29.741473Z",
     "shell.execute_reply.started": "2024-12-23T08:31:29.735967Z"
    }
   },
   "outputs": [],
   "source": [
    "num_col=num_col.drop(['Premium Amount'])"
   ]
  },
  {
   "cell_type": "markdown",
   "metadata": {},
   "source": [
    "# **Feature Scaling & Encoding**:\n"
   ]
  },
  {
   "cell_type": "code",
   "execution_count": 26,
   "metadata": {
    "execution": {
     "iopub.execute_input": "2024-12-23T08:31:29.745533Z",
     "iopub.status.busy": "2024-12-23T08:31:29.745034Z",
     "iopub.status.idle": "2024-12-23T08:31:37.133032Z",
     "shell.execute_reply": "2024-12-23T08:31:37.131023Z",
     "shell.execute_reply.started": "2024-12-23T08:31:29.745483Z"
    }
   },
   "outputs": [],
   "source": [
    "# Preprocessing for numerical data\n",
    "numerical_transformer = Pipeline(steps=[\n",
    "    ('imputer', SimpleImputer(strategy='mean')),  # Impute missing values with the mean\n",
    "    ('scaler', StandardScaler())  # Scale features\n",
    "])\n",
    "\n",
    "# Preprocessing for categorical data\n",
    "categorical_transformer = Pipeline(steps=[\n",
    "    ('imputer', SimpleImputer(strategy='most_frequent')),  # Impute missing values with the mode\n",
    "    ('onehot', OneHotEncoder(handle_unknown='ignore'))  # One-hot encode categorical variables\n",
    "])\n",
    "\n",
    "# Combine preprocessing steps\n",
    "preprocessor = ColumnTransformer(\n",
    "    transformers=[\n",
    "        ('num', numerical_transformer,num_col),\n",
    "        ('cat', categorical_transformer, cat_col)\n",
    "    ]\n",
    ")\n",
    "\n",
    "X_processed = preprocessor.fit_transform(X)\n",
    "test_transformed = preprocessor.transform(test.drop(columns=['id']))\n"
   ]
  },
  {
   "cell_type": "markdown",
   "metadata": {},
   "source": [
    "# **4.Train_Test_Split**"
   ]
  },
  {
   "cell_type": "code",
   "execution_count": 27,
   "metadata": {
    "execution": {
     "iopub.execute_input": "2024-12-23T08:31:37.134865Z",
     "iopub.status.busy": "2024-12-23T08:31:37.134388Z",
     "iopub.status.idle": "2024-12-23T08:31:37.407468Z",
     "shell.execute_reply": "2024-12-23T08:31:37.406065Z",
     "shell.execute_reply.started": "2024-12-23T08:31:37.134814Z"
    }
   },
   "outputs": [],
   "source": [
    "X_train,X_test,y_train,y_test=train_test_split(X_processed,y,test_size=0.2,random_state=42)"
   ]
  },
  {
   "cell_type": "markdown",
   "metadata": {},
   "source": [
    "# **5.Model Training By Multiple Model**"
   ]
  },
  {
   "cell_type": "code",
   "execution_count": 28,
   "metadata": {
    "execution": {
     "iopub.execute_input": "2024-12-23T08:31:37.409468Z",
     "iopub.status.busy": "2024-12-23T08:31:37.408945Z",
     "iopub.status.idle": "2024-12-23T08:32:13.423472Z",
     "shell.execute_reply": "2024-12-23T08:32:13.421942Z",
     "shell.execute_reply.started": "2024-12-23T08:31:37.409417Z"
    }
   },
   "outputs": [
    {
     "name": "stdout",
     "output_type": "stream",
     "text": [
      "linear Regression Accuracy : 1.17\n",
      "Decisoin Tree  Accuracy : 1.52\n",
      "XGBoost Accuracy : 1.15\n"
     ]
    }
   ],
   "source": [
    "models={'linear Regression': LinearRegression(),\n",
    "       'Decisoin Tree ': DecisionTreeRegressor(),\n",
    "       'XGBoost':XGBRegressor()\n",
    "       }\n",
    "\n",
    "#train and evaluate each model\n",
    "for model_name,model in models.items():\n",
    "    model.fit(X_train,y_train)\n",
    "    y_pred=model.predict(X_test)\n",
    "    rmsle= np.sqrt(mean_squared_log_error(y_test,y_pred))\n",
    "    \n",
    "    print(f'{model_name} Accuracy : {rmsle:.2f}')\n",
    "    "
   ]
  },
  {
   "cell_type": "markdown",
   "metadata": {},
   "source": [
    "**XGBoost Regressor outperforms Linear Regression with a lower RMSLE (1.15 vs. 1.17), indicating better predictive accuracy. However, both models fall into the \"Poor (> 1.0)\" range, suggesting room for improvement through hyperparameter tuning .**"
   ]
  },
  {
   "cell_type": "markdown",
   "metadata": {},
   "source": [
    "# **6.Hyperparameter Tuning:**"
   ]
  },
  {
   "cell_type": "markdown",
   "metadata": {},
   "source": [
    "# Select XGBRegressor"
   ]
  },
  {
   "cell_type": "code",
   "execution_count": 29,
   "metadata": {
    "execution": {
     "iopub.execute_input": "2024-12-23T08:32:13.425429Z",
     "iopub.status.busy": "2024-12-23T08:32:13.424997Z",
     "iopub.status.idle": "2024-12-23T08:32:13.432443Z",
     "shell.execute_reply": "2024-12-23T08:32:13.431215Z",
     "shell.execute_reply.started": "2024-12-23T08:32:13.425394Z"
    }
   },
   "outputs": [],
   "source": [
    "# Define the model\n",
    "xgb_model = XGBRegressor(eval_metric='rmsle', tree_method='hist',random_State=42)\n",
    "\n",
    "# Define the parameter grid\n",
    "param_grid = {\n",
    "    'learning_rate': [0.01, 0.1, 0.2],\n",
    "    'n_estimators': [50, 100, 200],\n",
    "    'max_depth': [3, 6, 10],\n",
    "    'subsample': [0.7, 0.8, 1.0],\n",
    "    'colsample_bytree': [0.7, 0.8, 1.0]\n",
    "}\n",
    "\n",
    "# Define GridSearchCV\n",
    "grid_search = GridSearchCV(\n",
    "    estimator=xgb_model,\n",
    "    param_grid=param_grid, \n",
    "    error_score='raise',# Using MSE for the search\n",
    "    \n",
    ")\n",
    "\n"
   ]
  },
  {
   "cell_type": "code",
   "execution_count": 30,
   "metadata": {
    "execution": {
     "iopub.execute_input": "2024-12-23T08:32:13.434500Z",
     "iopub.status.busy": "2024-12-23T08:32:13.434010Z",
     "iopub.status.idle": "2024-12-23T08:32:13.452994Z",
     "shell.execute_reply": "2024-12-23T08:32:13.451426Z",
     "shell.execute_reply.started": "2024-12-23T08:32:13.434451Z"
    }
   },
   "outputs": [],
   "source": [
    "# Fit the grid search\n",
    "#grid_search.fit(X_train, y_train)\n",
    "\n",
    "# Access the best parameters\n",
    "#best_parameters = grid_search.best_params_\n",
    "#print(\"Best Parameters: \", best_parameters)"
   ]
  },
  {
   "cell_type": "code",
   "execution_count": 31,
   "metadata": {
    "execution": {
     "iopub.execute_input": "2024-12-23T08:32:13.455140Z",
     "iopub.status.busy": "2024-12-23T08:32:13.454529Z",
     "iopub.status.idle": "2024-12-23T08:32:13.470205Z",
     "shell.execute_reply": "2024-12-23T08:32:13.468679Z",
     "shell.execute_reply.started": "2024-12-23T08:32:13.455087Z"
    }
   },
   "outputs": [],
   "source": [
    "best_parameter =  {'colsample_bytree': 1.0, 'learning_rate': 0.01, 'max_depth': 10, 'n_estimators': 200, 'subsample': 0.8}\n"
   ]
  },
  {
   "cell_type": "code",
   "execution_count": 32,
   "metadata": {
    "execution": {
     "iopub.execute_input": "2024-12-23T08:32:13.472010Z",
     "iopub.status.busy": "2024-12-23T08:32:13.471534Z",
     "iopub.status.idle": "2024-12-23T08:32:36.226206Z",
     "shell.execute_reply": "2024-12-23T08:32:36.225197Z",
     "shell.execute_reply.started": "2024-12-23T08:32:13.471956Z"
    }
   },
   "outputs": [
    {
     "data": {
      "text/html": [
       "<style>#sk-container-id-1 {color: black;background-color: white;}#sk-container-id-1 pre{padding: 0;}#sk-container-id-1 div.sk-toggleable {background-color: white;}#sk-container-id-1 label.sk-toggleable__label {cursor: pointer;display: block;width: 100%;margin-bottom: 0;padding: 0.3em;box-sizing: border-box;text-align: center;}#sk-container-id-1 label.sk-toggleable__label-arrow:before {content: \"▸\";float: left;margin-right: 0.25em;color: #696969;}#sk-container-id-1 label.sk-toggleable__label-arrow:hover:before {color: black;}#sk-container-id-1 div.sk-estimator:hover label.sk-toggleable__label-arrow:before {color: black;}#sk-container-id-1 div.sk-toggleable__content {max-height: 0;max-width: 0;overflow: hidden;text-align: left;background-color: #f0f8ff;}#sk-container-id-1 div.sk-toggleable__content pre {margin: 0.2em;color: black;border-radius: 0.25em;background-color: #f0f8ff;}#sk-container-id-1 input.sk-toggleable__control:checked~div.sk-toggleable__content {max-height: 200px;max-width: 100%;overflow: auto;}#sk-container-id-1 input.sk-toggleable__control:checked~label.sk-toggleable__label-arrow:before {content: \"▾\";}#sk-container-id-1 div.sk-estimator input.sk-toggleable__control:checked~label.sk-toggleable__label {background-color: #d4ebff;}#sk-container-id-1 div.sk-label input.sk-toggleable__control:checked~label.sk-toggleable__label {background-color: #d4ebff;}#sk-container-id-1 input.sk-hidden--visually {border: 0;clip: rect(1px 1px 1px 1px);clip: rect(1px, 1px, 1px, 1px);height: 1px;margin: -1px;overflow: hidden;padding: 0;position: absolute;width: 1px;}#sk-container-id-1 div.sk-estimator {font-family: monospace;background-color: #f0f8ff;border: 1px dotted black;border-radius: 0.25em;box-sizing: border-box;margin-bottom: 0.5em;}#sk-container-id-1 div.sk-estimator:hover {background-color: #d4ebff;}#sk-container-id-1 div.sk-parallel-item::after {content: \"\";width: 100%;border-bottom: 1px solid gray;flex-grow: 1;}#sk-container-id-1 div.sk-label:hover label.sk-toggleable__label {background-color: #d4ebff;}#sk-container-id-1 div.sk-serial::before {content: \"\";position: absolute;border-left: 1px solid gray;box-sizing: border-box;top: 0;bottom: 0;left: 50%;z-index: 0;}#sk-container-id-1 div.sk-serial {display: flex;flex-direction: column;align-items: center;background-color: white;padding-right: 0.2em;padding-left: 0.2em;position: relative;}#sk-container-id-1 div.sk-item {position: relative;z-index: 1;}#sk-container-id-1 div.sk-parallel {display: flex;align-items: stretch;justify-content: center;background-color: white;position: relative;}#sk-container-id-1 div.sk-item::before, #sk-container-id-1 div.sk-parallel-item::before {content: \"\";position: absolute;border-left: 1px solid gray;box-sizing: border-box;top: 0;bottom: 0;left: 50%;z-index: -1;}#sk-container-id-1 div.sk-parallel-item {display: flex;flex-direction: column;z-index: 1;position: relative;background-color: white;}#sk-container-id-1 div.sk-parallel-item:first-child::after {align-self: flex-end;width: 50%;}#sk-container-id-1 div.sk-parallel-item:last-child::after {align-self: flex-start;width: 50%;}#sk-container-id-1 div.sk-parallel-item:only-child::after {width: 0;}#sk-container-id-1 div.sk-dashed-wrapped {border: 1px dashed gray;margin: 0 0.4em 0.5em 0.4em;box-sizing: border-box;padding-bottom: 0.4em;background-color: white;}#sk-container-id-1 div.sk-label label {font-family: monospace;font-weight: bold;display: inline-block;line-height: 1.2em;}#sk-container-id-1 div.sk-label-container {text-align: center;}#sk-container-id-1 div.sk-container {/* jupyter's `normalize.less` sets `[hidden] { display: none; }` but bootstrap.min.css set `[hidden] { display: none !important; }` so we also need the `!important` here to be able to override the default hidden behavior on the sphinx rendered scikit-learn.org. See: https://github.com/scikit-learn/scikit-learn/issues/21755 */display: inline-block !important;position: relative;}#sk-container-id-1 div.sk-text-repr-fallback {display: none;}</style><div id=\"sk-container-id-1\" class=\"sk-top-container\"><div class=\"sk-text-repr-fallback\"><pre>XGBRegressor(base_score=None, booster=None, callbacks=None,\n",
       "             colsample_bylevel=None, colsample_bynode=None,\n",
       "             colsample_bytree=1.0, device=None, early_stopping_rounds=None,\n",
       "             enable_categorical=False, eval_metric=None, feature_types=None,\n",
       "             gamma=None, grow_policy=None, importance_type=None,\n",
       "             interaction_constraints=None, learning_rate=0.01, max_bin=None,\n",
       "             max_cat_threshold=None, max_cat_to_onehot=None,\n",
       "             max_delta_step=None, max_depth=10, max_leaves=None,\n",
       "             min_child_weight=None, missing=nan, monotone_constraints=None,\n",
       "             multi_strategy=None, n_estimators=200, n_jobs=None,\n",
       "             num_parallel_tree=None, random_state=None, ...)</pre><b>In a Jupyter environment, please rerun this cell to show the HTML representation or trust the notebook. <br />On GitHub, the HTML representation is unable to render, please try loading this page with nbviewer.org.</b></div><div class=\"sk-container\" hidden><div class=\"sk-item\"><div class=\"sk-estimator sk-toggleable\"><input class=\"sk-toggleable__control sk-hidden--visually\" id=\"sk-estimator-id-1\" type=\"checkbox\" checked><label for=\"sk-estimator-id-1\" class=\"sk-toggleable__label sk-toggleable__label-arrow\">XGBRegressor</label><div class=\"sk-toggleable__content\"><pre>XGBRegressor(base_score=None, booster=None, callbacks=None,\n",
       "             colsample_bylevel=None, colsample_bynode=None,\n",
       "             colsample_bytree=1.0, device=None, early_stopping_rounds=None,\n",
       "             enable_categorical=False, eval_metric=None, feature_types=None,\n",
       "             gamma=None, grow_policy=None, importance_type=None,\n",
       "             interaction_constraints=None, learning_rate=0.01, max_bin=None,\n",
       "             max_cat_threshold=None, max_cat_to_onehot=None,\n",
       "             max_delta_step=None, max_depth=10, max_leaves=None,\n",
       "             min_child_weight=None, missing=nan, monotone_constraints=None,\n",
       "             multi_strategy=None, n_estimators=200, n_jobs=None,\n",
       "             num_parallel_tree=None, random_state=None, ...)</pre></div></div></div></div></div>"
      ],
      "text/plain": [
       "XGBRegressor(base_score=None, booster=None, callbacks=None,\n",
       "             colsample_bylevel=None, colsample_bynode=None,\n",
       "             colsample_bytree=1.0, device=None, early_stopping_rounds=None,\n",
       "             enable_categorical=False, eval_metric=None, feature_types=None,\n",
       "             gamma=None, grow_policy=None, importance_type=None,\n",
       "             interaction_constraints=None, learning_rate=0.01, max_bin=None,\n",
       "             max_cat_threshold=None, max_cat_to_onehot=None,\n",
       "             max_delta_step=None, max_depth=10, max_leaves=None,\n",
       "             min_child_weight=None, missing=nan, monotone_constraints=None,\n",
       "             multi_strategy=None, n_estimators=200, n_jobs=None,\n",
       "             num_parallel_tree=None, random_state=None, ...)"
      ]
     },
     "execution_count": 32,
     "metadata": {},
     "output_type": "execute_result"
    }
   ],
   "source": [
    "xgb_mb= XGBRegressor(**best_parameter) # Unpack the best_parameter dictionary\n",
    "xgb_mb.fit(X_train ,y_train)\n"
   ]
  },
  {
   "cell_type": "markdown",
   "metadata": {},
   "source": [
    "# **7.Model Evaluation**"
   ]
  },
  {
   "cell_type": "code",
   "execution_count": 33,
   "metadata": {
    "execution": {
     "iopub.execute_input": "2024-12-23T08:32:36.227545Z",
     "iopub.status.busy": "2024-12-23T08:32:36.227211Z",
     "iopub.status.idle": "2024-12-23T08:32:36.235963Z",
     "shell.execute_reply": "2024-12-23T08:32:36.234406Z",
     "shell.execute_reply.started": "2024-12-23T08:32:36.227511Z"
    }
   },
   "outputs": [],
   "source": [
    "y_test = np.nan_to_num(y_test)\n"
   ]
  },
  {
   "cell_type": "code",
   "execution_count": 34,
   "metadata": {
    "execution": {
     "iopub.execute_input": "2024-12-23T08:32:36.238549Z",
     "iopub.status.busy": "2024-12-23T08:32:36.238006Z",
     "iopub.status.idle": "2024-12-23T08:32:37.888726Z",
     "shell.execute_reply": "2024-12-23T08:32:37.887322Z",
     "shell.execute_reply.started": "2024-12-23T08:32:36.238494Z"
    }
   },
   "outputs": [
    {
     "name": "stdout",
     "output_type": "stream",
     "text": [
      "RMSLE : 1.1513134768899513 \n"
     ]
    },
    {
     "data": {
      "image/png": "[encoded data removed]",
      "text/plain": [
       "<Figure size 640x480 with 1 Axes>"
      ]
     },
     "metadata": {},
     "output_type": "display_data"
    }
   ],
   "source": [
    "y_pred = xgb_mb.predict(X_test)\n",
    "rmsle= np.sqrt(mean_squared_log_error(y_test,y_pred))\n",
    "print(f\"RMSLE : {rmsle} \" )\n",
    "\n",
    "\n",
    "plot_importance(xgb_mb, importance_type='gain', title='XGB Feature Importance', max_num_features=10, color='purple')\n",
    "sns.set_palette('viridis')\n"
   ]
  },
  {
   "cell_type": "markdown",
   "metadata": {},
   "source": [
    "**Column Mapping:**\n",
    "f0: Age\n",
    "\n",
    "f1: Gender\n",
    "\n",
    "f2: Annual Income\n",
    "\n",
    "f3: Marital Status\n",
    "\n",
    "f4: Number of Dependents\n",
    "\n",
    "f5: Education Level\n",
    "\n",
    "f6: Occupation\n",
    "\n",
    "f7: Health Score\n",
    "\n",
    "f8: Policy Type\n",
    "\n",
    "f9: Previous Claims\n",
    "\n",
    "f10: Vehicle Age\n",
    "\n",
    "f11: Credit Score\n",
    "\n",
    "f12: Insurance Duration\n",
    "\n",
    "f13: Smoking Status\n",
    "\n",
    "f14: Exercise Frequency\n",
    "\n",
    "f15: Property Type"
   ]
  },
  {
   "cell_type": "markdown",
   "metadata": {},
   "source": [
    "The feature importance analysis reveals that **Number of Dependents, Gender, Marital Status, and Occupation** significantly influence the **Premium Amount**. These features likely affect the target variable as they provide critical insights into the policyholder's profile, such as financial responsibilities, demographic factors, and risk levels, which are essential for determining insurance premiums."
   ]
  },
  {
   "cell_type": "markdown",
   "metadata": {},
   "source": [
    "# **8.Submission**"
   ]
  },
  {
   "cell_type": "code",
   "execution_count": 35,
   "metadata": {
    "execution": {
     "iopub.execute_input": "2024-12-23T08:32:37.891495Z",
     "iopub.status.busy": "2024-12-23T08:32:37.891007Z",
     "iopub.status.idle": "2024-12-23T08:32:43.684641Z",
     "shell.execute_reply": "2024-12-23T08:32:43.683344Z",
     "shell.execute_reply.started": "2024-12-23T08:32:37.891442Z"
    }
   },
   "outputs": [
    {
     "data": {
      "text/html": [
       "<div>\n",
       "<style scoped>\n",
       "    .dataframe tbody tr th:only-of-type {\n",
       "        vertical-align: middle;\n",
       "    }\n",
       "\n",
       "    .dataframe tbody tr th {\n",
       "        vertical-align: top;\n",
       "    }\n",
       "\n",
       "    .dataframe thead th {\n",
       "        text-align: right;\n",
       "    }\n",
       "</style>\n",
       "<table border=\"1\" class=\"dataframe\">\n",
       "  <thead>\n",
       "    <tr style=\"text-align: right;\">\n",
       "      <th></th>\n",
       "      <th>id</th>\n",
       "      <th>Premium Amount</th>\n",
       "    </tr>\n",
       "  </thead>\n",
       "  <tbody>\n",
       "    <tr>\n",
       "      <th>0</th>\n",
       "      <td>1200000</td>\n",
       "      <td>1438.783691</td>\n",
       "    </tr>\n",
       "    <tr>\n",
       "      <th>1</th>\n",
       "      <td>1200001</td>\n",
       "      <td>1124.194824</td>\n",
       "    </tr>\n",
       "    <tr>\n",
       "      <th>2</th>\n",
       "      <td>1200002</td>\n",
       "      <td>1081.160889</td>\n",
       "    </tr>\n",
       "    <tr>\n",
       "      <th>3</th>\n",
       "      <td>1200003</td>\n",
       "      <td>1090.936035</td>\n",
       "    </tr>\n",
       "    <tr>\n",
       "      <th>4</th>\n",
       "      <td>1200004</td>\n",
       "      <td>1050.079956</td>\n",
       "    </tr>\n",
       "  </tbody>\n",
       "</table>\n",
       "</div>"
      ],
      "text/plain": [
       "        id  Premium Amount\n",
       "0  1200000     1438.783691\n",
       "1  1200001     1124.194824\n",
       "2  1200002     1081.160889\n",
       "3  1200003     1090.936035\n",
       "4  1200004     1050.079956"
      ]
     },
     "execution_count": 35,
     "metadata": {},
     "output_type": "execute_result"
    }
   ],
   "source": [
    "output= pd.DataFrame(test['id'])\n",
    "xgb_output = xgb_mb.predict(test_transformed)\n",
    "output['Premium Amount']= xgb_output\n",
    "output.to_csv(\"/kaggle/working/submission.csv\", index = None)\n",
    "output.head()"
   ]
  }
 ],
 "metadata": {
  "kaggle": {
   "accelerator": "none",
   "dataSources": [
    {
     "databundleVersionId": 10305135,
     "sourceId": 84896,
     "sourceType": "competition"
    }
   ],
   "dockerImageVersionId": 30804,
   "isGpuEnabled": false,
   "isInternetEnabled": true,
   "language": "python",
   "sourceType": "notebook"
  },
  "kernelspec": {
   "display_name": "Python 3 (ipykernel)",
   "language": "python",
   "name": "python3"
  },
  "language_info": {
   "codemirror_mode": {
    "name": "ipython",
    "version": 3
   },
   "file_extension": ".py",
   "mimetype": "text/x-python",
   "name": "python",
   "nbconvert_exporter": "python",
   "pygments_lexer": "ipython3",
   "version": "3.9.7"
  }
 },
 "nbformat": 4,
 "nbformat_minor": 4
}
